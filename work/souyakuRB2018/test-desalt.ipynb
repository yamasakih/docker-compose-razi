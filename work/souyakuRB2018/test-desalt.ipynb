{
 "cells": [
  {
   "cell_type": "code",
   "execution_count": 1,
   "metadata": {},
   "outputs": [
    {
     "name": "stdout",
     "output_type": "stream",
     "text": [
      "usage: desalt.py [-h] -i INPUT_FILE [-o OUTPUT_FILE] [-n N_JOBS]\r\n",
      "\r\n",
      "optional arguments:\r\n",
      "  -h, --help            show this help message and exit\r\n",
      "  -i INPUT_FILE, --input-file INPUT_FILE\r\n",
      "                        input SMILES file\r\n",
      "  -o OUTPUT_FILE, --output-file OUTPUT_FILE\r\n",
      "                        output file name (defalut: \"input SMILES file\r\n",
      "                        name\"_desalt.smi\r\n",
      "  -n N_JOBS, --n-jobs N_JOBS\r\n",
      "                        Number of CPU to desalt compounds. (default: 1)\r\n"
     ]
    }
   ],
   "source": [
    "!python desalt.py -h"
   ]
  },
  {
   "cell_type": "code",
   "execution_count": 2,
   "metadata": {
    "scrolled": true
   },
   "outputs": [
    {
     "name": "stdout",
     "output_type": "stream",
     "text": [
      "[Parallel(n_jobs=10)]: Using backend LokyBackend with 10 concurrent workers.\n",
      "[Parallel(n_jobs=10)]: Done  30 tasks      | elapsed:    1.2s\n",
      "[Parallel(n_jobs=10)]: Done 16525 tasks      | elapsed:    9.4s\n",
      "[Parallel(n_jobs=10)]: Done 54525 tasks      | elapsed:   27.2s\n",
      "[Parallel(n_jobs=10)]: Done 107725 tasks      | elapsed:   53.7s\n",
      "[Parallel(n_jobs=10)]: Done 128816 out of 128816 | elapsed:  1.1min finished\n"
     ]
    }
   ],
   "source": [
    "!python desalt.py -i ../souyakuchan_library/Enamine_Premium_collection.smi -n 10"
   ]
  },
  {
   "cell_type": "code",
   "execution_count": 3,
   "metadata": {},
   "outputs": [
    {
     "name": "stdout",
     "output_type": "stream",
     "text": [
      "[Parallel(n_jobs=10)]: Using backend LokyBackend with 10 concurrent workers.\n",
      "[Parallel(n_jobs=10)]: Done  30 tasks      | elapsed:    1.2s\n",
      "[Parallel(n_jobs=10)]: Done 15915 tasks      | elapsed:    6.2s\n",
      "[Parallel(n_jobs=10)]: Done 53415 tasks      | elapsed:   18.9s\n",
      "[Parallel(n_jobs=10)]: Done 105915 tasks      | elapsed:   39.5s\n",
      "[Parallel(n_jobs=10)]: Done 173415 tasks      | elapsed:  1.2min\n",
      "[Parallel(n_jobs=10)]: Done 255915 tasks      | elapsed:  1.9min\n",
      "[10:58:00] Can't kekulize mol.  Unkekulized atoms: 3 7 13 18 19 24 25 29\n",
      "\n",
      "[Parallel(n_jobs=10)]: Done 353415 tasks      | elapsed:  2.7min\n",
      "[Parallel(n_jobs=10)]: Done 465915 tasks      | elapsed:  3.6min\n",
      "[Parallel(n_jobs=10)]: Done 486322 out of 486322 | elapsed:  3.7min finished\n"
     ]
    }
   ],
   "source": [
    "!python desalt.py -i ../souyakuchan_library/Enamine_Advanced_collection.smi -n 10"
   ]
  },
  {
   "cell_type": "code",
   "execution_count": 4,
   "metadata": {},
   "outputs": [
    {
     "name": "stdout",
     "output_type": "stream",
     "text": [
      "[Parallel(n_jobs=10)]: Using backend LokyBackend with 10 concurrent workers.\n",
      "[Parallel(n_jobs=10)]: Done  30 tasks      | elapsed:    1.0s\n",
      "[Parallel(n_jobs=10)]: Done 25131 tasks      | elapsed:   12.1s\n",
      "[Parallel(n_jobs=10)]: Done 65131 tasks      | elapsed:   34.2s\n",
      "[Parallel(n_jobs=10)]: Done 105531 tasks      | elapsed:   57.0s\n",
      "[Parallel(n_jobs=10)]: Done 141531 tasks      | elapsed:  1.3min\n",
      "[Parallel(n_jobs=10)]: Done 185531 tasks      | elapsed:  1.7min\n",
      "[Parallel(n_jobs=10)]: Done 237531 tasks      | elapsed:  2.2min\n",
      "[11:02:04] Can't kekulize mol.  Unkekulized atoms: 3 6 9 12 14 15\n",
      "\n",
      "[11:02:05] Can't kekulize mol.  Unkekulized atoms: 3 6 9 13 15 16 17 18 19 20\n",
      "\n",
      "[11:02:05] Can't kekulize mol.  Unkekulized atoms: 3 6 9 12 15 18\n",
      "\n",
      "[11:02:06] Can't kekulize mol.  Unkekulized atoms: 3 6 9 12 15 16\n",
      "\n",
      "[11:02:06] Can't kekulize mol.  Unkekulized atoms: 3 5 6 7 8 9\n",
      "\n",
      "[11:02:14] Can't kekulize mol.  Unkekulized atoms: 3 8 9 11 12 15\n",
      "\n",
      "[11:02:15] Can't kekulize mol.  Unkekulized atoms: 13 15 16 17 18 19 20\n",
      "\n",
      "[11:02:15] Can't kekulize mol.  Unkekulized atoms: 3 8 9 11 12 16\n",
      "\n",
      "[11:02:15] Can't kekulize mol.  Unkekulized atoms: 3 8 9 11 12 15\n",
      "\n",
      "[11:02:15] Explicit valence for atom # 8 H, 2, is greater than permitted\n",
      "[11:02:15] Explicit valence for atom # 1 Cl, 2, is greater than permitted\n",
      "[11:02:17] Can't kekulize mol.  Unkekulized atoms: 3 5 30 31 32 33\n",
      "\n",
      "[11:02:17] Can't kekulize mol.  Unkekulized atoms: 3 5 28 29 30 32\n",
      "\n",
      "[11:02:17] Can't kekulize mol.  Unkekulized atoms: 3 5 35 36 37 39\n",
      "\n",
      "[11:02:18] Can't kekulize mol.  Unkekulized atoms: 3 5 32 33 34 35\n",
      "\n",
      "[11:02:18] Can't kekulize mol.  Unkekulized atoms: 3 5 33 34 35 36\n",
      "\n",
      "[11:02:19] Can't kekulize mol.  Unkekulized atoms: 3 5 27 28 29 31\n",
      "\n",
      "[11:02:19] Can't kekulize mol.  Unkekulized atoms: 3 5 27 28 29 31\n",
      "\n",
      "[11:02:19] Can't kekulize mol.  Unkekulized atoms: 3 5 26 27 29 32\n",
      "\n",
      "[11:02:21] Explicit valence for atom # 19 N, 4, is greater than permitted\n",
      "[11:02:25] Can't kekulize mol.  Unkekulized atoms: 1 2 5\n",
      "\n",
      "[11:02:25] Can't kekulize mol.  Unkekulized atoms: 4 5 6 7 8 9 10\n",
      "\n",
      "[11:02:25] Can't kekulize mol.  Unkekulized atoms: 1 2 4 5 7\n",
      "\n",
      "[11:02:25] Explicit valence for atom # 18 N, 4, is greater than permitted\n",
      "[11:02:25] Can't kekulize mol.  Unkekulized atoms: 9 10 11 12 13\n",
      "\n",
      "[11:02:26] Explicit valence for atom # 8 N, 4, is greater than permitted\n",
      "[Parallel(n_jobs=10)]: Done 297531 tasks      | elapsed:  2.8min\n",
      "[11:02:52] Can't kekulize mol.  Unkekulized atoms: 3 4 6\n",
      "\n",
      "[Parallel(n_jobs=10)]: Done 365531 tasks      | elapsed:  3.4min\n",
      "[11:03:35] Can't kekulize mol.  Unkekulized atoms: 26 27 29\n",
      "\n",
      "[11:03:38] Can't kekulize mol.  Unkekulized atoms: 14 15 16 17 18 19 20 21 22\n",
      "\n",
      "[Parallel(n_jobs=10)]: Done 441531 tasks      | elapsed:  4.0min\n",
      "[11:04:10] Can't kekulize mol.  Unkekulized atoms: 10 11 12 13 14 15 16 17 19\n",
      "\n",
      "[11:04:11] Can't kekulize mol.  Unkekulized atoms: 15 18 19\n",
      "\n",
      "[11:04:16] Explicit valence for atom # 4 N, 4, is greater than permitted\n",
      "[Parallel(n_jobs=10)]: Done 516664 out of 516664 | elapsed:  4.6min finished\n"
     ]
    }
   ],
   "source": [
    "!python desalt.py -i ../souyakuchan_library/UOS_HTS.smi -n 10"
   ]
  },
  {
   "cell_type": "code",
   "execution_count": 5,
   "metadata": {
    "scrolled": false
   },
   "outputs": [
    {
     "name": "stdout",
     "output_type": "stream",
     "text": [
      "[Parallel(n_jobs=10)]: Using backend LokyBackend with 10 concurrent workers.\n",
      "[Parallel(n_jobs=10)]: Done  30 tasks      | elapsed:    1.3s\n",
      "[11:04:34] Can't kekulize mol.  Unkekulized atoms: 3 5 6 7 9 10\n",
      "\n",
      "[11:04:37] Can't kekulize mol.  Unkekulized atoms: 3 8\n",
      "\n",
      "[Parallel(n_jobs=10)]: Done 17159 tasks      | elapsed:    6.7s\n",
      "[Parallel(n_jobs=10)]: Done 58159 tasks      | elapsed:   24.4s\n",
      "[Parallel(n_jobs=10)]: Done 115559 tasks      | elapsed:   54.5s\n",
      "[Parallel(n_jobs=10)]: Done 171975 tasks      | elapsed:  1.4min\n",
      "[Parallel(n_jobs=10)]: Done 217075 tasks      | elapsed:  1.8min\n",
      "[Parallel(n_jobs=10)]: Done 270375 tasks      | elapsed:  2.2min\n",
      "[Parallel(n_jobs=10)]: Done 331875 tasks      | elapsed:  2.8min\n",
      "[Parallel(n_jobs=10)]: Done 401575 tasks      | elapsed:  3.3min\n",
      "[Parallel(n_jobs=10)]: Done 479475 tasks      | elapsed:  4.0min\n",
      "[Parallel(n_jobs=10)]: Done 565575 tasks      | elapsed:  4.8min\n",
      "[Parallel(n_jobs=10)]: Done 659875 tasks      | elapsed:  5.6min\n",
      "[Parallel(n_jobs=10)]: Done 762375 tasks      | elapsed:  6.5min\n",
      "[Parallel(n_jobs=10)]: Done 873075 tasks      | elapsed:  7.4min\n",
      "[11:12:27] Can't kekulize mol.  Unkekulized atoms: 3 15\n",
      "\n",
      "[11:12:30] Can't kekulize mol.  Unkekulized atoms: 3 5 26 27 28 29\n",
      "\n",
      "[11:12:31] Can't kekulize mol.  Unkekulized atoms: 3 5 31 32 33 35\n",
      "\n",
      "[11:12:31] Can't kekulize mol.  Unkekulized atoms: 3 5 25 26 28 31\n",
      "\n",
      "[11:12:31] Can't kekulize mol.  Unkekulized atoms: 3 5 28 29 30 31\n",
      "\n",
      "[11:12:31] Can't kekulize mol.  Unkekulized atoms: 3 5 27 28 29 30\n",
      "\n",
      "[[11:12:31] Can't kekulize mol.  Unkekulized atoms: 3 5 22 23 24 25\n",
      "\n",
      "11:12:31] Can't kekulize mol.  Unkekulized atoms: 3 5 27 28 29 30\n",
      "\n",
      "[11:12:32] Can't kekulize mol.  Unkekulized atoms: 3 5 26 27 28 29\n",
      "\n",
      "[11:12:32] Can't kekulize mol.  Unkekulized atoms: 3 5 28 29 30 31\n",
      "\n",
      "[11:12:33] Can't kekulize mol.  Unkekulized atoms: 3 5 24 25 26 27 28 29 30 31\n",
      "\n",
      "[11:12:33] Can't kekulize mol.  Unkekulized atoms: 3 5 26 27 28 29\n",
      "\n",
      "[Parallel(n_jobs=10)]: Done 991975 tasks      | elapsed:  8.5min\n",
      "[Parallel(n_jobs=10)]: Done 1119075 tasks      | elapsed:  9.6min\n",
      "[11:14:26] Can't kekulize mol.  Unkekulized atoms: 3 6 12 15 16 21 22 28\n",
      "\n",
      "[Parallel(n_jobs=10)]: Done 1254375 tasks      | elapsed: 10.8min\n",
      "[Parallel(n_jobs=10)]: Done 1397875 tasks      | elapsed: 12.1min\n",
      "[11:16:37] Can't kekulize mol.  Unkekulized atoms: 3 8 13 16 17 21 22 25\n",
      "\n",
      "[Parallel(n_jobs=10)]: Done 1549575 tasks      | elapsed: 13.4min\n",
      "[11:19:11] Can't kekulize mol.  Unkekulized atoms: 3 17\n",
      "\n",
      "[Parallel(n_jobs=10)]: Done 1709475 tasks      | elapsed: 14.7min\n",
      "[11:19:55] Can't kekulize mol.  Unkekulized atoms: 7 14 15 16 18 19 20 21 22\n",
      "\n",
      "[11:19:55] Can't kekulize mol.  Unkekulized atoms: 12 13 14 15 16 17 19 20 21\n",
      "\n",
      "[11:19:56] Can't kekulize mol.  Unkekulized atoms: 6 13 14 15 16 18 19 20 21\n",
      "\n",
      "[[11:20:20] Explicit valence for atom # 36 Br, 5, is greater than permitted\n",
      "11:20:20] Explicit valence for atom # 15 B, 4, is greater than permitted\n",
      "[11:20:20] Explicit valence for atom # 11 B, 4, is greater than permitted\n",
      "[11:20:20] Explicit valence for atom # 1 B, 4, is greater than permitted\n",
      "[11:20:20] Explicit valence for atom # 12 B, 4, is greater than permitted\n",
      "[11:20:20] Explicit valence for atom # 14 B, 4, is greater than permitted\n",
      "[11:20:20] Explicit valence for atom # 12 B, 4, is greater than permitted\n",
      "[11:20:20] Explicit valence for atom # 25 B, 4, is greater than permitted\n",
      "[11:20:20] Explicit valence for atom # 26 B, 4, is greater than permitted\n",
      "[11:20:20] Explicit valence for atom # 25 B, 4, is greater than permitted\n",
      "[11:20:20] Explicit valence for atom # 8 B, 4, is greater than permitted\n",
      "[11:20:20] Explicit valence for atom # 13 B, 4, is greater than permitted\n",
      "[11:20:20] Explicit valence for atom # 13 B, 4, is greater than permitted\n",
      "[11:20:20] Explicit valence for atom # 16 B, 4, is greater than permitted\n",
      "[11:20:20] Explicit valence for atom # 22 B, 4, is greater than permitted\n",
      "[11:20:20] Explicit valence for atom # 16 B, 4, is greater than permitted\n",
      "[11:20:20] Explicit valence for atom # 25 B, 4, is greater than permitted\n",
      "[11:20:20] Explicit valence for atom # 22 B, 4, is greater than permitted\n",
      "[11:20:20] Explicit valence for atom # 28 B, 4, is greater than permitted\n",
      "[11:20:20] Explicit valence for atom # 20 B, 4, is greater than permitted\n",
      "[11:20:20] Explicit valence for atom # 1 B, 4, is greater than permitted\n",
      "[11:20:20] Explicit valence for atom # 30 B, 4, is greater than permitted\n",
      "[11:20:20] Explicit valence for atom # 14 B, 4, is greater than permitted\n",
      "[11:20:20] Explicit valence for atom # 8 B, 4, is greater than permitted\n",
      "[11:20:20] Explicit valence for atom # 16 B, 4, is greater than permitted\n",
      "[11:20:20] Explicit valence for atom # 20 B, 4, is greater than permitted\n",
      "[11:20:20] Explicit valence for atom # 24 B, 4, is greater than permitted\n",
      "[11:20:20] Explicit valence for atom # 24 B, 4, is greater than permitted\n",
      "[11:20:20] Explicit valence for atom # 22 B, 4, is greater than permitted\n",
      "[11:20:20] Explicit valence for atom # 22 B, 4, is greater than permitted\n",
      "[11:20:20] Explicit valence for atom # 20 B, 4, is greater than permitted\n",
      "[11:20:20] Explicit valence for atom # 24 B, 4, is greater than permitted\n",
      "[11:20:20] Explicit valence for atom # 20 B, 4, is greater than permitted\n",
      "[11:20:20] Explicit valence for atom # 20 B, 4, is greater than permitted\n",
      "[11:20:20] Explicit valence for atom # 20 B, 4, is greater than permitted\n",
      "[11:20:20] Explicit valence for atom # 20 B, 4, is greater than permitted\n",
      "[11:20:20] Explicit valence for atom # 20 B, 4, is greater than permitted\n",
      "[11:20:20] Explicit valence for atom # 20 B, 4, is greater than permitted\n",
      "[11:20:20] Explicit valence for atom # 20 B, 4, is greater than permitted\n",
      "[11:20:20] Explicit valence for atom # 12 B, 4, is greater than permitted\n",
      "[11:20:20] Explicit valence for atom # 15 B, 4, is greater than permitted\n",
      "[11:20:20] Explicit valence for atom # 15 B, 4, is greater than permitted\n",
      "[11:20:20] Explicit valence for atom # 20 B, 4, is greater than permitted\n",
      "[11:20:20] Explicit valence for atom # 20 B, 4, is greater than permitted\n",
      "[11:20:20] Explicit valence for atom # 20 B, 4, is greater than permitted\n",
      "[11:20:20] Explicit valence for atom # 22 B, 4, is greater than permitted\n",
      "[11:20:20] Explicit valence for atom # 7 B, 4, is greater than permitted\n",
      "[11:20:20] Explicit valence for atom # 1 B, 4, is greater than permitted\n",
      "[11:20:27] Can't kekulize mol.  Unkekulized atoms: 8 11 12 13 14 15 16\n",
      "\n",
      "[Parallel(n_jobs=10)]: Done 1877575 tasks      | elapsed: 16.0min\n",
      "[Parallel(n_jobs=10)]: Done 1921489 out of 1921489 | elapsed: 16.4min finished\n"
     ]
    }
   ],
   "source": [
    "!python desalt.py -i ../souyakuchan_library/Enamine_HTS_collection.smi -n 10"
   ]
  },
  {
   "cell_type": "markdown",
   "metadata": {},
   "source": [
    "# EOF"
   ]
  }
 ],
 "metadata": {
  "kernelspec": {
   "display_name": "Python 3",
   "language": "python",
   "name": "python3"
  },
  "language_info": {
   "codemirror_mode": {
    "name": "ipython",
    "version": 3
   },
   "file_extension": ".py",
   "mimetype": "text/x-python",
   "name": "python",
   "nbconvert_exporter": "python",
   "pygments_lexer": "ipython3",
   "version": "3.6.4"
  }
 },
 "nbformat": 4,
 "nbformat_minor": 2
}
