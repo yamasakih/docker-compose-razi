{
 "cells": [
  {
   "cell_type": "markdown",
   "metadata": {},
   "source": [
    "## SQLAlchemyおよびraziを用いた化合物データベースの利用のチュートリアル"
   ]
  },
  {
   "cell_type": "code",
   "execution_count": 1,
   "metadata": {},
   "outputs": [
    {
     "name": "stdout",
     "output_type": "stream",
     "text": [
      "sys.version_info(major=3, minor=6, micro=0, releaselevel='final', serial=0)\n",
      "RDKit version: 2017.03.1\n"
     ]
    }
   ],
   "source": [
    "from collections import namedtuple\n",
    "import csv\n",
    "import psycopg2\n",
    "import sys\n",
    "from mytables import Compound\n",
    "\n",
    "from razi.rdkit_postgresql.types import Mol, Bfp\n",
    "from razi.rdkit_postgresql.functions import atompairbv_fp, torsionbv_fp, morganbv_fp, mol_amw\n",
    "\n",
    "from rdkit import Chem, rdBase\n",
    "from rdkit.Chem import Draw\n",
    "\n",
    "from sqlalchemy import create_engine, desc, Column, Index, Integer, String\n",
    "from sqlalchemy.ext.declarative import declarative_base\n",
    "from sqlalchemy.orm import sessionmaker\n",
    "\n",
    "\n",
    "print(sys.version_info)\n",
    "print(f'RDKit version: {rdBase.rdkitVersion}')"
   ]
  },
  {
   "cell_type": "markdown",
   "metadata": {},
   "source": [
    "### 1. テーブルの定義と構築"
   ]
  },
  {
   "cell_type": "markdown",
   "metadata": {},
   "source": [
    "複数のNotebookで利用ができるように化学構造情報を保存するテーブルは[mytables.py](http://0.0.0.0:8888/edit/tutorial/mytables.py)に保存し  \n",
    "`from mytables import Compound`で読み込んでいる。\n",
    "\n",
    "例えば以下のセルを実行することテーブル`compounds`の定義及び構築をすることができる。"
   ]
  },
  {
   "cell_type": "code",
   "execution_count": 2,
   "metadata": {},
   "outputs": [],
   "source": [
    "!python mytables.py"
   ]
  },
  {
   "cell_type": "markdown",
   "metadata": {},
   "source": [
    "以下で具体的にどのようなテーブルが定義、構築されたか説明していく。  \n",
    "[mytables.py](http://0.0.0.0:8888/edit/tutorial/mytables.py)のコードも随時確認しながら進めてもらえるとよい。"
   ]
  },
  {
   "cell_type": "markdown",
   "metadata": {},
   "source": [
    "[SQLAlchemy](http://docs.sqlalchemy.org/en/latest/orm/tutorial.html)をすでに利用している方にわかりやすく説明するとSQLAlchemyでテーブルの定義をする方法と同じように`razi`でも定義することができる。  \n",
    "その際カラムのデータ型として化学構造データを保存する`Mol`が追加されている。"
   ]
  },
  {
   "cell_type": "markdown",
   "metadata": {},
   "source": [
    "最初に`create_engine`関数を用いてPostgreSQLに接続する。  \n",
    "引数として`postgresql://ユーザー名:パスワード@接続先:ポート/データベース名`を与える。  \n",
    "今回は`ユーザー名=postgres`, `パスワード=なし`, `接続先=db`, `ポート=5432`, `データベース名=postgres` であるので以下のようになる。"
   ]
  },
  {
   "cell_type": "markdown",
   "metadata": {},
   "source": [
    "```\n",
    "engine = create_engine('postgresql://postgres@db:5432/postgres')\n",
    "Base = declarative_base(bind=engine)\n",
    "```"
   ]
  },
  {
   "cell_type": "markdown",
   "metadata": {},
   "source": [
    "PostgresSQLに接続したengineを引数とした`Base`クラスを作成する。  \n",
    "この`Base`クラスを継承したクラスを新たに作ることで`SQLAlchemy`や`Razi`ではデータベース内に存在するテーブルを定義していることになる。\n",
    "\n",
    "実際に`Compound`という名前のテーブルを定義していってみる。"
   ]
  },
  {
   "cell_type": "markdown",
   "metadata": {},
   "source": [
    "```\n",
    "class Compound(Base):\n",
    "    __tablename__ = 'compounds'\n",
    "    \n",
    "    id = Column(Integer, primary_key=True)\n",
    "    name = Column(String)\n",
    "    structure = Column(Mol)\n",
    "    atompair = Column(Bfp)\n",
    "    torsion = Column(Bfp)\n",
    "    morgan = Column(Bfp)\n",
    "    \n",
    "    __table_args__ = (\n",
    "        Index('compounds_structure', 'structure',\n",
    "                    postgresql_using='gist'),\n",
    "        )\n",
    "    \n",
    "    def __init__(self, name, structure):\n",
    "        self.name = name\n",
    "        if isinstance(structure, Chem.Mol):\n",
    "            self.structure = Chem.MolToSmiles(structure)\n",
    "        elif isinstance(structure, str):\n",
    "            self.structure = structure\n",
    "        self.atompair = atompairbv_fp(self.structure)\n",
    "        self.torsion = torsionbv_fp(self.structure)\n",
    "        self.morgan = morganbv_fp(self.structure, 2)\n",
    "        \n",
    "    def __repr__(self):\n",
    "        if isinstance(self.structure, Chem.Mol):\n",
    "            return '(%s) < %s >' % (self.name, Chem.MolToSmiles(self.structure))\n",
    "        return '(%s) < %s >' % (self.name, self.structure)\n",
    "```"
   ]
  },
  {
   "cell_type": "markdown",
   "metadata": {},
   "source": [
    "`Compound`クラスの中を詳しく説明していこう。"
   ]
  },
  {
   "cell_type": "markdown",
   "metadata": {},
   "source": [
    "#### 1.1 テーブルの定義"
   ]
  },
  {
   "cell_type": "markdown",
   "metadata": {},
   "source": [
    "#### 1.1.1 テーブルの名前"
   ]
  },
  {
   "cell_type": "markdown",
   "metadata": {},
   "source": [
    "```\n",
    "    __tablename__ = 'compounds'\n",
    "```"
   ]
  },
  {
   "cell_type": "markdown",
   "metadata": {},
   "source": [
    "初めに`__tablename__`attributeにテーブルの名前`compounds`を定義している。"
   ]
  },
  {
   "cell_type": "markdown",
   "metadata": {},
   "source": [
    "#### 1.1.2 テーブルのカラム"
   ]
  },
  {
   "cell_type": "markdown",
   "metadata": {},
   "source": [
    "続けて以下のようにテーブル`compounds`の各カラムを定義する。"
   ]
  },
  {
   "cell_type": "markdown",
   "metadata": {},
   "source": [
    "```\n",
    "    id = Column(Integer, primary_key=True)\n",
    "    name = Column(String)\n",
    "    structure = Column(Mol)\n",
    "    atompair = Column(Bfp)\n",
    "    torsion = Column(Bfp)\n",
    "    morgan = Column(Bfp)\n",
    "```"
   ]
  },
  {
   "cell_type": "markdown",
   "metadata": {},
   "source": [
    "\n",
    "テーブル`compounds`は`id`, `name`, `structure`という名前のカラムを持つように定義されている。  \n",
    "(`atompair`, `torsion`, `morgan`に関しては[razi-tutorial2-japanese](razi-tutorial2-japanese.ipynb)で説明するのでこのチュートリアルでは説明しない)  \n",
    "SQLAlchemyやraziではattributeに初期値として`Column`クラスをあたえることで`compounds`テーブルのカラムとして定義することができる。  \n",
    "さらに`Column`クラスのコンストラクタの引数に`Integer`, `String`, `Mol`を与えることで  \n",
    "それぞれ整数値、文字列、化学構造を保存するカラムであると定義している。  \n",
    "加えて`id`には引数として`primary_key=True`を与えることでPrimary key(主キー)であると定義している。"
   ]
  },
  {
   "cell_type": "markdown",
   "metadata": {},
   "source": [
    "ここまでの定義でテーブル`compounds`は以下のようなテーブルだと想像してもらえるとわかりやすいと思う。"
   ]
  },
  {
   "cell_type": "markdown",
   "metadata": {},
   "source": [
    "|id| name | structure | \n",
    "|:---|----|---:|\n",
    "|1|Benzen|c1ccccc1|\n",
    "|2|Aspirin|CC(=O)Oc1ccccc1C(=O)O|\n",
    "|3|Oseltamivir|CCC(CC)OC1C=C(CC(C1NC(=O)C)N)C(=O)OCC|"
   ]
  },
  {
   "cell_type": "markdown",
   "metadata": {},
   "source": [
    "#### 1.1.3 インデックス "
   ]
  },
  {
   "cell_type": "markdown",
   "metadata": {},
   "source": [
    "続けて`structure`カラムにインデックスを作成する。インデックスを作成することで登録しているデータ数が増えるても高速な検索を可能になる。"
   ]
  },
  {
   "cell_type": "markdown",
   "metadata": {},
   "source": [
    "```\n",
    "    __table_args__ = (\n",
    "        Index('compounds_structure', 'structure',\n",
    "                    postgresql_using='gist'),\n",
    "        )\n",
    "```"
   ]
  },
  {
   "cell_type": "markdown",
   "metadata": {},
   "source": [
    "`Index`クラスの引数は前から順番にインデックスの名前(データベース内で重複してなければどんな名前でもよい), インデックスを作成するカラム,  \n",
    "用いるインデックスの種類である。[RDKit database cartridge](http://www.rdkit.org/docs/Cartridge.html)では化学構造を保存する`mol`に対応しているインデックスは`gist`のみである。"
   ]
  },
  {
   "cell_type": "markdown",
   "metadata": {},
   "source": [
    "#### 1.1.4 コンストラクタ"
   ]
  },
  {
   "cell_type": "markdown",
   "metadata": {},
   "source": [
    "コンストラクタの中はSQLAlchemy, raziでは特に決まりがないが、最終的に各カラムに適切な値を与える必要がある。  \n",
    "今回は利便性を考えて引数`structure`は`str`でもRDKitの`rdkit.Chem.rdchem.Mol`オブジェクトでもよいようにしてみた。"
   ]
  },
  {
   "cell_type": "markdown",
   "metadata": {},
   "source": [
    "```\n",
    "    def __init__(self, name, structure):\n",
    "        self.name = name\n",
    "        if isinstance(structure, Chem.Mol):\n",
    "            self.structure = Chem.MolToSmiles(structure)\n",
    "        elif isinstance(structure, str):\n",
    "            self.structure = structure\n",
    "        self.atompair = atompairbv_fp(self.structure)\n",
    "        self.torsion = torsionbv_fp(self.structure)\n",
    "        self.morgan = morganbv_fp(self.structure, 2)\n",
    "```"
   ]
  },
  {
   "cell_type": "markdown",
   "metadata": {},
   "source": [
    "#### 1.1.5 __repr__メソッド"
   ]
  },
  {
   "cell_type": "markdown",
   "metadata": {},
   "source": [
    "最後に[\\__repr__](https://docs.python.jp/3/reference/datamodel.html#object.__repr__)メソッドを定義する。こちらは`print`などでどう表示されるか定義するだけで今回話をしている化合物データベース特有の話ではない。  \n",
    "あくまで人間の目で見た時にどういうデータかわかりやすくしているだけであるので省略してもかまわない。  \n",
    "こちらも`structure` attributeに`str`オブジェクトあるいは`rdkit.Chem.rdchem.Mol`オブジェクトのいずれかが入る可能性があるのでどちらでもよいようにしてみた。"
   ]
  },
  {
   "cell_type": "markdown",
   "metadata": {},
   "source": [
    "```\n",
    "    def __repr__(self):\n",
    "        if isinstance(self.structure, Chem.Mol):\n",
    "            return '(%s) < %s >' % (self.name, Chem.MolToSmiles(self.structure))\n",
    "        return '(%s) < %s >' % (self.name, self.structure)\n",
    "```"
   ]
  },
  {
   "cell_type": "markdown",
   "metadata": {},
   "source": [
    "以上でテーブルの定義は終わりである。"
   ]
  },
  {
   "cell_type": "markdown",
   "metadata": {},
   "source": [
    "#### 1.2 テーブルの構築"
   ]
  },
  {
   "cell_type": "markdown",
   "metadata": {},
   "source": [
    "次に、定義したテーブルを構築するには`Base.metadata.create_all`メソッドを実行する。"
   ]
  },
  {
   "cell_type": "markdown",
   "metadata": {},
   "source": [
    "```\n",
    "if __name__ == '__main__':\n",
    "    Base.metadata.create_all()\n",
    "```"
   ]
  },
  {
   "cell_type": "markdown",
   "metadata": {},
   "source": [
    "SQL言語がわかる方にわかりやすいように説明するとPostgreSQL内に以下のように定義されたテーブルが作成されている。"
   ]
  },
  {
   "cell_type": "markdown",
   "metadata": {},
   "source": [
    "```\n",
    "postgres=# \\d compounds;\n",
    "                                Table \"public.compounds\"\n",
    "  Column   |       Type        |                       Modifiers                        \n",
    "-----------+-------------------+--------------------------------------------------------\n",
    " id        | integer           | not null default nextval('compounds_id_seq'::regclass)\n",
    " name      | character varying | \n",
    " structure | mol               | \n",
    " atompair  | bfp               | \n",
    " torsion   | bfp               | \n",
    " morgan    | bfp               | \n",
    "Indexes:\n",
    "    \"compounds_pkey\" PRIMARY KEY, btree (id)\n",
    "    \"compounds_structure\" gist (structure)\n",
    "```"
   ]
  },
  {
   "cell_type": "markdown",
   "metadata": {},
   "source": [
    "以上でテーブル`compounds`の定義、構築に関する説明は終わりである。"
   ]
  },
  {
   "cell_type": "markdown",
   "metadata": {},
   "source": [
    "### 2. データベースに接続する"
   ]
  },
  {
   "cell_type": "markdown",
   "metadata": {},
   "source": [
    "それではデータベースに接続し、[1. テーブルの定義と構築](#1.-%E3%83%86%E3%83%BC%E3%83%96%E3%83%AB%E3%81%AE%E5%AE%9A%E7%BE%A9%E3%81%A8%E6%A7%8B%E7%AF%89)で作成したテーブル`compounds`にアクセスしたりデータを登録したりしてみよう。  \n",
    "`create_engine`関数を用いてPostgreSQLに接続する。続けてテーブルを定義するクラスが継承する`Base`クラスを呼び出す。  \n",
    "最後に`sesionmaker`から作成した`Session`クラスのオブジェクトを作成し、データベースにアクセスしたりデータを登録したりすることができる。  \n",
    "\n",
    "これらの作業はデータベースに接続するたびに最初に必ず行う必要がある。"
   ]
  },
  {
   "cell_type": "code",
   "execution_count": 3,
   "metadata": {},
   "outputs": [],
   "source": [
    "engine = create_engine('postgresql://postgres@db:5432/postgres')\n",
    "Base = declarative_base(bind=engine)\n",
    "Session = sessionmaker(bind=engine)\n",
    "session = Session()"
   ]
  },
  {
   "cell_type": "markdown",
   "metadata": {},
   "source": [
    "### 3. データの登録"
   ]
  },
  {
   "cell_type": "markdown",
   "metadata": {},
   "source": [
    "#### 3.1 登録データのダウンロード"
   ]
  },
  {
   "cell_type": "markdown",
   "metadata": {},
   "source": [
    "例えば以下のように`wget`などでCHEMBLから`chembl_23_chemreps.txt.gz`をダウンロードおよび解凍し、  \n",
    "このNotebookがある`work/tutorial`ディレクトリに入れてください。"
   ]
  },
  {
   "cell_type": "markdown",
   "metadata": {},
   "source": [
    "```\n",
    "wget ftp://ftp.ebi.ac.uk/pub/databases/chembl/ChEMBLdb/releases/chembl_23/chembl_23_chemreps.txt.gz\n",
    "gunzip chembl_23_chemreps.txt.gz\n",
    "```"
   ]
  },
  {
   "cell_type": "markdown",
   "metadata": {},
   "source": [
    "#### 3.2 データを抽出する関数の作成"
   ]
  },
  {
   "cell_type": "markdown",
   "metadata": {},
   "source": [
    "CHEMBLのデータである`chembl_23_chemreps.txt`は以下のような形式で保存されている。"
   ]
  },
  {
   "cell_type": "code",
   "execution_count": 4,
   "metadata": {},
   "outputs": [
    {
     "name": "stdout",
     "output_type": "stream",
     "text": [
      "chembl_id\tcanonical_smiles\tstandard_inchi\tstandard_inchi_key\r\n",
      "CHEMBL153534\tCc1cc(cn1C)c2csc(N=C(N)N)n2\tInChI=1S/C10H13N5S/c1-6-3-7(4-15(6)2)8-5-16-10(13-8)14-9(11)12/h3-5H,1-2H3,(H4,11,12,13,14)\tMFRNFCWYPYSFQQ-UHFFFAOYSA-N\r\n",
      "CHEMBL440060\tCC[C@H](C)[C@H](NC(=O)[C@H](CC(C)C)NC(=O)[C@@H](NC(=O)[C@@H](N)CCSC)[C@@H](C)O)C(=O)NCC(=O)N[C@@H](C)C(=O)N[C@@H](C)C(=O)N[C@@H](Cc1c[nH]cn1)C(=O)N[C@@H](CC(=O)N)C(=O)NCC(=O)N[C@@H](C)C(=O)N[C@@H](C)C(=O)N[C@@H](CCC(=O)N)C(=O)N[C@@H](CC(C)C)C(=O)N[C@@H](CC(C)C)C(=O)N[C@@H](CCCN=C(N)N)C(=O)N[C@@H](CCC(=O)N)C(=O)N[C@@H](CC(C)C)C(=O)N[C@@H](CCCN=C(N)N)C(=O)NCC(=O)N[C@@H](CCC(=O)N)C(=O)N[C@@H](CC(C)C)C(=O)NCC(=O)N2CCC[C@H]2C(=O)N3CCC[C@H]3C(=O)NCC(=O)N[C@@H](CO)C(=O)N[C@@H](CCCN=C(N)N)C(=O)N\tInChI=1S/C123H212N44O34S/c1-19-63(12)96(164-115(196)81(47-62(10)11)163-119(200)97(68(17)169)165-103(184)70(124)36-42-202-18)118(199)143-52-92(175)147-65(14)100(181)149-67(16)102(183)157-82(48-69-50-136-57-145-69)114(195)162-83(49-90(128)173)106(187)141-51-91(174)146-64(13)99(180)148-66(15)101(182)153-75(31-34-88(126)171)109(190)160-80(46-61(8)9)113(194)161-79(45-60(6)7)112(193)155-73(27-22-39-139-123(134)135)107(188)156-76(32-35-89(127)172)110(191)159-78(44-59(4)5)111(192)154-72(26-21-38-138-122(132)133)104(185)140-53-93(176)150-74(30-33-87(125)170)108(189)158-77(43-58(2)3)105(186)144-55-95(178)166-40-24-29-86(166)120(201)167-41-23-28-85(167)117(198)142-54-94(177)151-84(56-168)116(197)152-71(98(129)179)25-20-37-137-121(130)131/h50,57-68,70-86,96-97,168-169H,19-49,51-56,124H2,1-18H3,(H2,125,170)(H2,126,171)(H2,127,172)(H2,128,173)(H2,129,179)(H,136,145)(H,140,185)(H,141,187)(H,142,198)(H,143,199)(H,144,186)(H,146,174)(H,147,175)(H,148,180)(H,149,181)(H,150,176)(H,151,177)(H,152,197)(H,153,182)(H,154,192)(H,155,193)(H,156,188)(H,157,183)(H,158,189)(H,159,191)(H,160,190)(H,161,194)(H,162,195)(H,163,200)(H,164,196)(H,165,184)(H4,130,131,137)(H4,132,133,138)(H4,134,135,139)/t63-,64-,65-,66-,67-,68+,70-,71-,72-,73-,74-,75-,76-,77-,78-,79-,80-,81-,82-,83-,84-,85-,86-,96-,97-/m0/s1\tRSEQNZQKBMRQNM-VRGFNVLHSA-N\r\n"
     ]
    }
   ],
   "source": [
    "!head -n3 chembl_23_chemreps.txt"
   ]
  },
  {
   "cell_type": "markdown",
   "metadata": {},
   "source": [
    "このファイルからvalidなsmilesとそれに対応する`CHEMBL ID`そして新たな`ID`を割り当てる関数`read_chembldb`を以下のように作成した。"
   ]
  },
  {
   "cell_type": "code",
   "execution_count": 5,
   "metadata": {},
   "outputs": [],
   "source": [
    "Record = namedtuple('Record', 'chembl_id, smiles, inchi, inchi_key')\n",
    "\n",
    "\n",
    "def read_chembldb(filepath, limit):\n",
    "    with open(filepath, 'rt') as inputfile:\n",
    "            reader = csv.reader(inputfile, delimiter='\\t', skipinitialspace=True)\n",
    "            #headerを飛ばす\n",
    "            next(reader)\n",
    "\n",
    "            for count, record in enumerate(map(Record._make, reader), start=1):\n",
    "                smiles = record.smiles\n",
    "\n",
    "                #特定の三重結合をRDKitで読めるように変換する。\n",
    "                smiles = smiles.replace('=N#N','=[N+]=[N-]')\n",
    "                smiles = smiles.replace('N#N=','[N-]=[N+]=')            \n",
    "\n",
    "                #invalidなsmilesは読み込まない\n",
    "                if not Chem.MolFromSmiles(smiles):\n",
    "                    continue\n",
    "\n",
    "                yield count, record.chembl_id, smiles\n",
    "                if count == limit:\n",
    "                    break"
   ]
  },
  {
   "cell_type": "markdown",
   "metadata": {},
   "source": [
    "期待する通りに関数が動いているか確かめる。関数`read_chembldb`は引数`limit`の数の行だけデータを取り出す作業を行う。  \n",
    "今回は`limit=3`で行ってみる。"
   ]
  },
  {
   "cell_type": "code",
   "execution_count": 6,
   "metadata": {},
   "outputs": [
    {
     "name": "stdout",
     "output_type": "stream",
     "text": [
      "1 CHEMBL153534 Cc1cc(cn1C)c2csc(N=C(N)N)n2\n",
      "2 CHEMBL440060 CC[C@H](C)[C@H](NC(=O)[C@H](CC(C)C)NC(=O)[C@@H](NC(=O)[C@@H](N)CCSC)[C@@H](C)O)C(=O)NCC(=O)N[C@@H](C)C(=O)N[C@@H](C)C(=O)N[C@@H](Cc1c[nH]cn1)C(=O)N[C@@H](CC(=O)N)C(=O)NCC(=O)N[C@@H](C)C(=O)N[C@@H](C)C(=O)N[C@@H](CCC(=O)N)C(=O)N[C@@H](CC(C)C)C(=O)N[C@@H](CC(C)C)C(=O)N[C@@H](CCCN=C(N)N)C(=O)N[C@@H](CCC(=O)N)C(=O)N[C@@H](CC(C)C)C(=O)N[C@@H](CCCN=C(N)N)C(=O)NCC(=O)N[C@@H](CCC(=O)N)C(=O)N[C@@H](CC(C)C)C(=O)NCC(=O)N2CCC[C@H]2C(=O)N3CCC[C@H]3C(=O)NCC(=O)N[C@@H](CO)C(=O)N[C@@H](CCCN=C(N)N)C(=O)N\n",
      "3 CHEMBL440245 CCCC[C@H](NC(=O)[C@H](CC(C)C)NC(=O)[C@H](CCCCN)NC(=O)[C@H](CCCN=C(N)N)NC(=O)[C@H](CC(=O)N)NC(=O)[C@H](CO)NC(=O)[C@H](Cc1c[nH]cn1)NC(=O)[C@H](C)NC(=O)[C@H](CCC(=O)N)NC(=O)[C@H](CCC(=O)N)NC(=O)[C@H](C)NC(=O)[C@H](CC(C)C)NC(=O)[C@H](CCC(=O)N)NC(=O)[C@@H]2CCCCNC(=O)CC[C@H](NC(=O)[C@H](CC(C)C)NC(=O)[C@@H](NC(=O)[C@H](CCC(=O)O)NC(=O)[C@H](CCCN=C(N)N)NC(=O)[C@H](CC(C)C)NC(=O)[C@H](CC(C)C)NC(=O)[C@H](Cc3c[nH]cn3)NC(=O)[C@H](N)Cc4ccccc4)C(C)C)C(=O)N[C@@H](CCCC)C(=O)N[C@@H](C)C(=O)N[C@@H](CCCN=C(N)N)C(=O)N[C@@H](C)C(=O)N2)C(=O)N[C@@H](CCC(=O)O)C(=O)N[C@@H]([C@@H](C)CC)C(=O)N[C@@H]([C@@H](C)CC)C(=O)C(=O)N\n"
     ]
    }
   ],
   "source": [
    "for count, chembl_id, smiles in read_chembldb('chembl_23_chemreps.txt', 3):\n",
    "    print(count, chembl_id, smiles)"
   ]
  },
  {
   "cell_type": "markdown",
   "metadata": {},
   "source": [
    "期待する通りに関数が動いているようだ。"
   ]
  },
  {
   "cell_type": "markdown",
   "metadata": {},
   "source": [
    "#### 3.3 データの登録"
   ]
  },
  {
   "cell_type": "markdown",
   "metadata": {},
   "source": [
    "データを実際に登録してみる。定義したテーブル`Compound`クラスから一般的なオブジェクト指向型プログラミングにおけるオブジェクトを作成し、  \n",
    "sessionオブジェクトの`add`メソッドを用いて登録すれば良い。`read_chembldb`の引数`limit=25000`で行ってみる。  \n",
    "マシンパワーによっては登録に時間がかかるかもしれない。"
   ]
  },
  {
   "cell_type": "code",
   "execution_count": 7,
   "metadata": {},
   "outputs": [],
   "source": [
    "for count, chembl_id, smiles in read_chembldb('chembl_23_chemreps.txt', 25000):\n",
    "    compound = Compound(chembl_id, smiles)\n",
    "    session.add(compound)\n",
    "session.commit()"
   ]
  },
  {
   "cell_type": "markdown",
   "metadata": {},
   "source": [
    "私のパソコンだと1分ほどで登録が終了した。また別の登録方法としてRDkitのMolオブジェクトを引数に与えてもよい。"
   ]
  },
  {
   "cell_type": "code",
   "execution_count": 8,
   "metadata": {
    "scrolled": false
   },
   "outputs": [],
   "source": [
    "smiles = 'c1ccccc1Cl'\n",
    "mol =Chem.MolFromSmiles(smiles)\n",
    "compound = Compound('111111', mol)\n",
    "session.add(compound)\n",
    "session.commit()"
   ]
  },
  {
   "cell_type": "markdown",
   "metadata": {},
   "source": [
    "どちらで登録しても最後に`session.commit`メソッドを行い変更をデータベースに反映させる必要がある。"
   ]
  },
  {
   "cell_type": "markdown",
   "metadata": {},
   "source": [
    "### 4. SQLAlchemy/raziにおけるテーブル内のレコードの扱い方"
   ]
  },
  {
   "cell_type": "markdown",
   "metadata": {},
   "source": [
    "ここでテーブル内のデータの扱い方を学んでみよう。"
   ]
  },
  {
   "cell_type": "markdown",
   "metadata": {},
   "source": [
    "#### 4.1 検索"
   ]
  },
  {
   "cell_type": "markdown",
   "metadata": {},
   "source": [
    "##### 4.1.1 queryメソッド"
   ]
  },
  {
   "cell_type": "markdown",
   "metadata": {},
   "source": [
    "テーブルに対して特定の条件の検索をまとめたいわゆるクエリ(検索式)は`query`メソッドを用いてテーブルにわたすことができる。  \n",
    "例えば`compounds`テーブルの全データ(データベースではレコードと呼ぶことが多いので以後レコードと呼ぶ)を取り出すクエリは以下のようになる。"
   ]
  },
  {
   "cell_type": "code",
   "execution_count": 9,
   "metadata": {},
   "outputs": [],
   "source": [
    "compounds = session.query(Compound)"
   ]
  },
  {
   "cell_type": "markdown",
   "metadata": {},
   "source": [
    "ここで重要なのはテーブルに対してアクセスしレコードを取り出す作業はまだ行われていない。  \n",
    "したがって上記のセルは非常に膨大な量のレコードが登録されていても一瞬で実行されると思う。  \n",
    "実際にレコードをデータベースのテーブルから取り出す作業は例えば`print`関数で表示するなど、本当にそのレコードがないと作業ができない時に行う。\n",
    "これを遅延評価 (lazy evaluation)と呼ぶ。  \n",
    "\n",
    "なぜこのような処理が行われるかというと後で詳しく説明するが  \n",
    "`query`メソッドの返り値である`sqlalchemy.orm.query.Query`オブジェクトはその後さらに`filter`メソッドで連鎖的で絞り込むことができ、  \n",
    "最終的にすべてを組み合わせたクエリの条件でレコードを取り出すほうが取り出すレコードの数も減ってデータベースに負担が少ないからである。"
   ]
  },
  {
   "cell_type": "markdown",
   "metadata": {},
   "source": [
    "取り出したレコードの先頭５個を表示してみる。"
   ]
  },
  {
   "cell_type": "code",
   "execution_count": 10,
   "metadata": {},
   "outputs": [
    {
     "name": "stdout",
     "output_type": "stream",
     "text": [
      "(CHEMBL153534) < Cc1cc(-c2csc(N=C(N)N)n2)cn1C >\n",
      "(CHEMBL440060) < CCC(C)C(NC(=O)C(CC(C)C)NC(=O)C(NC(=O)C(N)CCSC)C(C)O)C(=O)NCC(=O)NC(C)C(=O)NC(C)C(=O)NC(Cc1c[nH]cn1)C(=O)NC(CC(N)=O)C(=O)NCC(=O)NC(C)C(=O)NC(C)C(=O)NC(CCC(N)=O)C(=O)NC(CC(C)C)C(=O)NC(CC(C)C)C(=O)NC(CCCN=C(N)N)C(=O)NC(CCC(N)=O)C(=O)NC(CC(C)C)C(=O)NC(CCCN=C(N)N)C(=O)NCC(=O)NC(CCC(N)=O)C(=O)NC(CC(C)C)C(=O)NCC(=O)N1CCCC1C(=O)N1CCCC1C(=O)NCC(=O)NC(CO)C(=O)NC(CCCN=C(N)N)C(N)=O >\n",
      "(CHEMBL440245) < CCCCC1NC(=O)C(NC(=O)C(CC(C)C)NC(=O)C(NC(=O)C(CCC(=O)O)NC(=O)C(CCCN=C(N)N)NC(=O)C(CC(C)C)NC(=O)C(CC(C)C)NC(=O)C(Cc2c[nH]cn2)NC(=O)C(N)Cc2ccccc2)C(C)C)CCC(=O)NCCCCC(C(=O)NC(CCC(N)=O)C(=O)NC(CC(C)C)C(=O)NC(C)C(=O)NC(CCC(N)=O)C(=O)NC(CCC(N)=O)C(=O)NC(C)C(=O)NC(Cc2c[nH]cn2)C(=O)NC(CO)C(=O)NC(CC(N)=O)C(=O)NC(CCCN=C(N)N)C(=O)NC(CCCCN)C(=O)NC(CC(C)C)C(=O)NC(CCCC)C(=O)NC(CCC(=O)O)C(=O)NC(C(=O)NC(C(=O)C(N)=O)C(C)CC)C(C)CC)NC(=O)C(C)NC(=O)C(CCCN=C(N)N)NC(=O)C(C)NC1=O >\n",
      "(CHEMBL440249) < CC(C)CC1NC(=O)CNC(=O)C(c2ccc(O)cc2)NC(=O)C(C(C)O)NC(=O)C(c2ccc(OC3OC(CO)C(O)C(O)C3OC3OC(CO)C(O)C(O)C3O)cc2)NC(=O)C(CCCN)NC(=O)C(Cc2ccccc2)NC(=O)C(C(C)O)NC(=O)C(c2ccc(O)cc2)NC(=O)C(c2ccc(O)cc2)NC(=O)C(C(C)C)NC(=O)C(CCCN)NC(=O)C(c2ccc(O)cc2)NC(=O)C(CNC(=O)C(CC(N)=O)NC(=O)Cc2cccc3ccccc23)C(C(N)=O)OC(=O)C(c2ccc(O)c(Cl)c2)NC(=O)C(C)NC1=O >\n",
      "(CHEMBL405398) < Brc1cccc(Nc2ncnc3ccncc23)c1NCCN1CCOCC1 >\n"
     ]
    }
   ],
   "source": [
    "for compound in session.query(Compound)[:5]:\n",
    "    print(compound)"
   ]
  },
  {
   "cell_type": "markdown",
   "metadata": {},
   "source": [
    "`query`メソッドの返り値である`sqlalchemy.orm.query.Query`オブジェクトはfor文で回すことで[mytables.py](http://0.0.0.0:8888/edit/tutorial/mytables.py)で定義した  \n",
    "`Compound`クラスのオブジェクトを返す。このように`Compound`クラスはデータベースのテーブルを定義するだけでなく  \n",
    "テーブルから取り出したレコードをPython上で扱う時のオブジェクトとしても使うことができる。"
   ]
  },
  {
   "cell_type": "markdown",
   "metadata": {},
   "source": [
    "##### 4.1.2 countメソッド"
   ]
  },
  {
   "cell_type": "markdown",
   "metadata": {},
   "source": [
    "`query`メソッドにて検索した結果取り出されたレコードの数を確認するのは`count`メソッドを用いる"
   ]
  },
  {
   "cell_type": "code",
   "execution_count": 11,
   "metadata": {},
   "outputs": [
    {
     "data": {
      "text/plain": [
       "25001"
      ]
     },
     "execution_count": 11,
     "metadata": {},
     "output_type": "execute_result"
    }
   ],
   "source": [
    "compounds = session.query(Compound)\n",
    "compounds.count()"
   ]
  },
  {
   "cell_type": "markdown",
   "metadata": {},
   "source": [
    "`compounds`テーブルには25001個のレコードが登録されているのがわかる。"
   ]
  },
  {
   "cell_type": "markdown",
   "metadata": {},
   "source": [
    "##### 4.1.3 特定のカラムに関する絞り込み"
   ]
  },
  {
   "cell_type": "markdown",
   "metadata": {},
   "source": [
    "特定のカラムに関する絞り込みは`filter`メソッドの引数に追加することでできる。  \n",
    "例えばカラム`id`が5以下のレコードを取り出したい場合は以下のようにする。"
   ]
  },
  {
   "cell_type": "code",
   "execution_count": 12,
   "metadata": {},
   "outputs": [
    {
     "name": "stdout",
     "output_type": "stream",
     "text": [
      "id: 1, (CHEMBL153534) < Cc1cc(-c2csc(N=C(N)N)n2)cn1C >\n",
      "id: 2, (CHEMBL440060) < CCC(C)C(NC(=O)C(CC(C)C)NC(=O)C(NC(=O)C(N)CCSC)C(C)O)C(=O)NCC(=O)NC(C)C(=O)NC(C)C(=O)NC(Cc1c[nH]cn1)C(=O)NC(CC(N)=O)C(=O)NCC(=O)NC(C)C(=O)NC(C)C(=O)NC(CCC(N)=O)C(=O)NC(CC(C)C)C(=O)NC(CC(C)C)C(=O)NC(CCCN=C(N)N)C(=O)NC(CCC(N)=O)C(=O)NC(CC(C)C)C(=O)NC(CCCN=C(N)N)C(=O)NCC(=O)NC(CCC(N)=O)C(=O)NC(CC(C)C)C(=O)NCC(=O)N1CCCC1C(=O)N1CCCC1C(=O)NCC(=O)NC(CO)C(=O)NC(CCCN=C(N)N)C(N)=O >\n",
      "id: 3, (CHEMBL440245) < CCCCC1NC(=O)C(NC(=O)C(CC(C)C)NC(=O)C(NC(=O)C(CCC(=O)O)NC(=O)C(CCCN=C(N)N)NC(=O)C(CC(C)C)NC(=O)C(CC(C)C)NC(=O)C(Cc2c[nH]cn2)NC(=O)C(N)Cc2ccccc2)C(C)C)CCC(=O)NCCCCC(C(=O)NC(CCC(N)=O)C(=O)NC(CC(C)C)C(=O)NC(C)C(=O)NC(CCC(N)=O)C(=O)NC(CCC(N)=O)C(=O)NC(C)C(=O)NC(Cc2c[nH]cn2)C(=O)NC(CO)C(=O)NC(CC(N)=O)C(=O)NC(CCCN=C(N)N)C(=O)NC(CCCCN)C(=O)NC(CC(C)C)C(=O)NC(CCCC)C(=O)NC(CCC(=O)O)C(=O)NC(C(=O)NC(C(=O)C(N)=O)C(C)CC)C(C)CC)NC(=O)C(C)NC(=O)C(CCCN=C(N)N)NC(=O)C(C)NC1=O >\n",
      "id: 4, (CHEMBL440249) < CC(C)CC1NC(=O)CNC(=O)C(c2ccc(O)cc2)NC(=O)C(C(C)O)NC(=O)C(c2ccc(OC3OC(CO)C(O)C(O)C3OC3OC(CO)C(O)C(O)C3O)cc2)NC(=O)C(CCCN)NC(=O)C(Cc2ccccc2)NC(=O)C(C(C)O)NC(=O)C(c2ccc(O)cc2)NC(=O)C(c2ccc(O)cc2)NC(=O)C(C(C)C)NC(=O)C(CCCN)NC(=O)C(c2ccc(O)cc2)NC(=O)C(CNC(=O)C(CC(N)=O)NC(=O)Cc2cccc3ccccc23)C(C(N)=O)OC(=O)C(c2ccc(O)c(Cl)c2)NC(=O)C(C)NC1=O >\n",
      "id: 5, (CHEMBL405398) < Brc1cccc(Nc2ncnc3ccncc23)c1NCCN1CCOCC1 >\n"
     ]
    }
   ],
   "source": [
    "compounds = session.query(Compound)\n",
    "compounds = compounds.filter(Compound.id <= 5)\n",
    "for compound in compounds:\n",
    "    print(f'id: {compound.id}, {compound}')"
   ]
  },
  {
   "cell_type": "markdown",
   "metadata": {},
   "source": [
    "##### 4.1.4 allメソッド"
   ]
  },
  {
   "cell_type": "markdown",
   "metadata": {},
   "source": [
    "`query`メソッドや`filter`メソッドを用いて絞り込みを行ったレコードすべてをリストに変換するのは`all`メソッドを用いる。  \n",
    "遅延評価が行われすべてのレコードがリストに変換されるのでレコード数が多いと変換に時間がかかるので注意する。\n",
    "\n",
    "以下の例ではCompoundの分子量を計算し100以下のものだけをすべて`all`メソッドで取り出している。"
   ]
  },
  {
   "cell_type": "code",
   "execution_count": 13,
   "metadata": {},
   "outputs": [
    {
     "data": {
      "text/plain": [
       "89"
      ]
     },
     "execution_count": 13,
     "metadata": {},
     "output_type": "execute_result"
    }
   ],
   "source": [
    "compounds = session.query(Compound)\n",
    "compounds = compounds.filter(mol_amw(Compound.structure) <= 100)\n",
    "compounds.count()"
   ]
  },
  {
   "cell_type": "code",
   "execution_count": 14,
   "metadata": {},
   "outputs": [
    {
     "data": {
      "text/plain": [
       "[(CHEMBL545) < CCO >,\n",
       " (CHEMBL501613) < C#CC(C)(O)CC >,\n",
       " (CHEMBL6960) < CCCCON >,\n",
       " (CHEMBL8123) < N#CN1CCC1 >,\n",
       " (CHEMBL9113) < Cc1ccccc1 >]"
      ]
     },
     "execution_count": 14,
     "metadata": {},
     "output_type": "execute_result"
    }
   ],
   "source": [
    "compounds = compounds.all()\n",
    "compounds[:5]"
   ]
  },
  {
   "cell_type": "markdown",
   "metadata": {},
   "source": [
    "リストに変換しすべて同時に処理したい場合は`all`メソッドを用いると良い。"
   ]
  },
  {
   "cell_type": "markdown",
   "metadata": {},
   "source": [
    "#### 4.1.5 firstメソッド"
   ]
  },
  {
   "cell_type": "markdown",
   "metadata": {},
   "source": [
    "`all`メソッドが取り出したレコードすべてをリストにするなら`first`メソッドは取り出したレコードの先頭の１個のみを取り出す。  \n",
    "先頭2個以上が欲しい場合は次のセクションの`limit`メソッドを使うとよい。"
   ]
  },
  {
   "cell_type": "code",
   "execution_count": 15,
   "metadata": {},
   "outputs": [
    {
     "data": {
      "text/plain": [
       "(CHEMBL545) < CCO >"
      ]
     },
     "execution_count": 15,
     "metadata": {},
     "output_type": "execute_result"
    }
   ],
   "source": [
    "compounds = session.query(Compound)\n",
    "compounds = compounds.filter(mol_amw(Compound.structure) <= 100)\n",
    "compounds.first()"
   ]
  },
  {
   "cell_type": "markdown",
   "metadata": {},
   "source": [
    "##### 4.1.6 limitメソッド"
   ]
  },
  {
   "cell_type": "markdown",
   "metadata": {},
   "source": [
    "先頭２個以上を欲しい場合は`limit`メソッドを用いる。"
   ]
  },
  {
   "cell_type": "code",
   "execution_count": 16,
   "metadata": {},
   "outputs": [
    {
     "name": "stdout",
     "output_type": "stream",
     "text": [
      "(CHEMBL153534) < Cc1cc(-c2csc(N=C(N)N)n2)cn1C >\n",
      "(CHEMBL440060) < CCC(C)C(NC(=O)C(CC(C)C)NC(=O)C(NC(=O)C(N)CCSC)C(C)O)C(=O)NCC(=O)NC(C)C(=O)NC(C)C(=O)NC(Cc1c[nH]cn1)C(=O)NC(CC(N)=O)C(=O)NCC(=O)NC(C)C(=O)NC(C)C(=O)NC(CCC(N)=O)C(=O)NC(CC(C)C)C(=O)NC(CC(C)C)C(=O)NC(CCCN=C(N)N)C(=O)NC(CCC(N)=O)C(=O)NC(CC(C)C)C(=O)NC(CCCN=C(N)N)C(=O)NCC(=O)NC(CCC(N)=O)C(=O)NC(CC(C)C)C(=O)NCC(=O)N1CCCC1C(=O)N1CCCC1C(=O)NCC(=O)NC(CO)C(=O)NC(CCCN=C(N)N)C(N)=O >\n",
      "(CHEMBL440245) < CCCCC1NC(=O)C(NC(=O)C(CC(C)C)NC(=O)C(NC(=O)C(CCC(=O)O)NC(=O)C(CCCN=C(N)N)NC(=O)C(CC(C)C)NC(=O)C(CC(C)C)NC(=O)C(Cc2c[nH]cn2)NC(=O)C(N)Cc2ccccc2)C(C)C)CCC(=O)NCCCCC(C(=O)NC(CCC(N)=O)C(=O)NC(CC(C)C)C(=O)NC(C)C(=O)NC(CCC(N)=O)C(=O)NC(CCC(N)=O)C(=O)NC(C)C(=O)NC(Cc2c[nH]cn2)C(=O)NC(CO)C(=O)NC(CC(N)=O)C(=O)NC(CCCN=C(N)N)C(=O)NC(CCCCN)C(=O)NC(CC(C)C)C(=O)NC(CCCC)C(=O)NC(CCC(=O)O)C(=O)NC(C(=O)NC(C(=O)C(N)=O)C(C)CC)C(C)CC)NC(=O)C(C)NC(=O)C(CCCN=C(N)N)NC(=O)C(C)NC1=O >\n",
      "(CHEMBL440249) < CC(C)CC1NC(=O)CNC(=O)C(c2ccc(O)cc2)NC(=O)C(C(C)O)NC(=O)C(c2ccc(OC3OC(CO)C(O)C(O)C3OC3OC(CO)C(O)C(O)C3O)cc2)NC(=O)C(CCCN)NC(=O)C(Cc2ccccc2)NC(=O)C(C(C)O)NC(=O)C(c2ccc(O)cc2)NC(=O)C(c2ccc(O)cc2)NC(=O)C(C(C)C)NC(=O)C(CCCN)NC(=O)C(c2ccc(O)cc2)NC(=O)C(CNC(=O)C(CC(N)=O)NC(=O)Cc2cccc3ccccc23)C(C(N)=O)OC(=O)C(c2ccc(O)c(Cl)c2)NC(=O)C(C)NC1=O >\n",
      "(CHEMBL405398) < Brc1cccc(Nc2ncnc3ccncc23)c1NCCN1CCOCC1 >\n"
     ]
    }
   ],
   "source": [
    "compounds = session.query(Compound).limit(5)\n",
    "for compound in compounds:\n",
    "    print(compound)"
   ]
  },
  {
   "cell_type": "markdown",
   "metadata": {},
   "source": [
    "##### 4.1.7 order_byメソッド"
   ]
  },
  {
   "cell_type": "markdown",
   "metadata": {},
   "source": [
    "特定のカラムでソートしたい場合は`order_by`メソッドを用いる。降順にしたい場合は`desc`関数をさらに使えば良い。  \n",
    "以下の例ではidで昇順、降順で表示している。"
   ]
  },
  {
   "cell_type": "code",
   "execution_count": 17,
   "metadata": {},
   "outputs": [
    {
     "name": "stdout",
     "output_type": "stream",
     "text": [
      "1: CHEMBL153534\n",
      "2: CHEMBL440060\n",
      "3: CHEMBL440245\n",
      "4: CHEMBL440249\n",
      "5: CHEMBL405398\n"
     ]
    }
   ],
   "source": [
    "compounds = session.query(Compound).order_by(Compound.id)\n",
    "for compound in compounds[:5]:\n",
    "    print(f'{compound.id}: {compound.name}')"
   ]
  },
  {
   "cell_type": "code",
   "execution_count": 18,
   "metadata": {},
   "outputs": [
    {
     "name": "stdout",
     "output_type": "stream",
     "text": [
      "25001: 111111\n",
      "25000: CHEMBL32102\n",
      "24999: CHEMBL32101\n",
      "24998: CHEMBL32016\n",
      "24997: CHEMBL32014\n"
     ]
    }
   ],
   "source": [
    "compounds = session.query(Compound).order_by(desc(Compound.id))\n",
    "for compound in compounds[:5]:\n",
    "    print(f'{compound.id}: {compound.name}')"
   ]
  },
  {
   "cell_type": "markdown",
   "metadata": {},
   "source": [
    "##### 4.1.8 functionsの関数"
   ]
  },
  {
   "cell_type": "markdown",
   "metadata": {},
   "source": [
    "`razi.rdkit_postgressql.functions`モジュールの関数を引数として呼び出すことでRDKit database cartridge内で利用可能な関数を利用できる。  \n",
    "例えば4.4などで利用しているmol_amwもそのうちの１つであり分子量を計算する。  \n",
    "`label`メソッドをさらにつけることで`compound`オブジェクトのアトリビュートとして扱うことができる。"
   ]
  },
  {
   "cell_type": "code",
   "execution_count": 19,
   "metadata": {},
   "outputs": [
    {
     "name": "stdout",
     "output_type": "stream",
     "text": [
      "235.316\n",
      "2883.39\n",
      "3548.21\n",
      "2598.16\n",
      "429.322\n"
     ]
    }
   ],
   "source": [
    "compounds = session.query(Compound, mol_amw(Compound.structure).label('MW'))\n",
    "for compound in compounds[:5]:\n",
    "    print(f'{compound.MW}')"
   ]
  },
  {
   "cell_type": "markdown",
   "metadata": {},
   "source": [
    "##### 4.1.9 特定のカラムのみを結果として取り出す"
   ]
  },
  {
   "cell_type": "markdown",
   "metadata": {},
   "source": [
    "特定のカラムのみを取り出すにははじめの`query`メソッドの引数に取り出したいカラムを指定すればよい。  \n",
    "例えば分子量を計算し100以下のものの`name`のみ取り出す時は以下のようにすればよい。"
   ]
  },
  {
   "cell_type": "code",
   "execution_count": 20,
   "metadata": {},
   "outputs": [
    {
     "data": {
      "text/plain": [
       "89"
      ]
     },
     "execution_count": 20,
     "metadata": {},
     "output_type": "execute_result"
    }
   ],
   "source": [
    "compounds = session.query(Compound.name)\n",
    "compounds = compounds.filter(mol_amw(Compound.structure) <= 100)\n",
    "compounds.count()"
   ]
  },
  {
   "cell_type": "code",
   "execution_count": 21,
   "metadata": {},
   "outputs": [
    {
     "data": {
      "text/plain": [
       "[('CHEMBL545'),\n",
       " ('CHEMBL501613'),\n",
       " ('CHEMBL6960'),\n",
       " ('CHEMBL8123'),\n",
       " ('CHEMBL9113')]"
      ]
     },
     "execution_count": 21,
     "metadata": {},
     "output_type": "execute_result"
    }
   ],
   "source": [
    "compounds = compounds.all()\n",
    "compounds[:5]"
   ]
  },
  {
   "cell_type": "markdown",
   "metadata": {},
   "source": [
    "もちろんデータ量が多くなければすべてのカラムを取り出し最後に`name`のみを表示してもよい。"
   ]
  },
  {
   "cell_type": "code",
   "execution_count": 22,
   "metadata": {},
   "outputs": [
    {
     "name": "stdout",
     "output_type": "stream",
     "text": [
      "CHEMBL545\n",
      "CHEMBL501613\n",
      "CHEMBL6960\n",
      "CHEMBL8123\n",
      "CHEMBL9113\n"
     ]
    }
   ],
   "source": [
    "compounds = session.query(Compound)\n",
    "compounds = compounds.filter(mol_amw(Compound.structure) <= 100)\n",
    "for compound in compounds[:5]:\n",
    "    print(compound.name)"
   ]
  },
  {
   "cell_type": "markdown",
   "metadata": {},
   "source": [
    "##### 4.1.10 hassubstructメソッド"
   ]
  },
  {
   "cell_type": "markdown",
   "metadata": {},
   "source": [
    "raziモジュールを用いることでSQLAlchemyに追加される機能として部分構造検索をする`hassubstruct`メソッドがある。  \n",
    "例として分子量150以下かつベンゼン環を含む化合物のレコードのみを取り出してみよう。"
   ]
  },
  {
   "cell_type": "code",
   "execution_count": 23,
   "metadata": {},
   "outputs": [
    {
     "name": "stdout",
     "output_type": "stream",
     "text": [
      "421\n",
      "97\n"
     ]
    }
   ],
   "source": [
    "compounds = session.query(Compound)\n",
    "compounds = compounds.filter(mol_amw(Compound.structure) <= 150)\n",
    "print(f'{compounds.count()}')\n",
    "compounds = compounds.filter(Compound.structure.hassubstruct('c1ccccc1'))\n",
    "print(f'{compounds.count()}')"
   ]
  },
  {
   "cell_type": "markdown",
   "metadata": {},
   "source": [
    "97個の化合物が検索ヒットした。そのうちの6個を取り出して画像を表示してみよう。  \n",
    "sqlalchemy.orm.query.Queryオブジェクトは`all`メソッド以外にスライスで取り出してもリストに変換される。"
   ]
  },
  {
   "cell_type": "code",
   "execution_count": 24,
   "metadata": {},
   "outputs": [
    {
     "data": {
      "text/plain": [
       "[(CHEMBL21485) < OB(O)c1ccccc1 >,\n",
       " (CHEMBL13888) < O=[N+]([O-])c1cccc(O)c1 >,\n",
       " (CHEMBL13311) < O=c1ccoc2ccccc12 >,\n",
       " (CHEMBL7891) < NC1=NCCc2ccccc21 >,\n",
       " (CHEMBL164375) < C#CC(CN)c1ccccc1 >,\n",
       " (CHEMBL14126) < Oc1ccc2ccccc2c1 >]"
      ]
     },
     "execution_count": 24,
     "metadata": {},
     "output_type": "execute_result"
    }
   ],
   "source": [
    "compounds = compounds[:6]\n",
    "compounds"
   ]
  },
  {
   "cell_type": "code",
   "execution_count": 25,
   "metadata": {},
   "outputs": [
    {
     "data": {
      "image/png": "[encoded data removed]",
      "text/plain": [
       "<PIL.Image.Image image mode=RGBA size=750x500 at 0x7F55E7432BA8>"
      ]
     },
     "execution_count": 25,
     "metadata": {},
     "output_type": "execute_result"
    }
   ],
   "source": [
    "Draw.MolsToGridImage(\n",
    "    [compound.structure for compound in compounds], \n",
    "    legends=[compound.name for compound in compounds], \n",
    "    subImgSize=(250, 250)\n",
    ")"
   ]
  },
  {
   "cell_type": "markdown",
   "metadata": {},
   "source": [
    "確かにすべてベンゼン環を含む。"
   ]
  },
  {
   "cell_type": "markdown",
   "metadata": {},
   "source": [
    "RDKit Database Cartridgeでは同時に複数の部分構造を含む部分構造検索したい場合、部分構造をピリオドで繋げば良い。  \n",
    "以下の例は分子量300以下、ベンゼン環、インドール環をそれぞれ１つ以上含む部分構造検索はを行う場合のクエリである。"
   ]
  },
  {
   "cell_type": "code",
   "execution_count": 26,
   "metadata": {
    "scrolled": false
   },
   "outputs": [
    {
     "name": "stdout",
     "output_type": "stream",
     "text": [
      "37\n"
     ]
    }
   ],
   "source": [
    "compounds = session.query(Compound)\n",
    "compounds = compounds.filter(mol_amw(Compound.structure) <= 300)\n",
    "compounds = compounds.filter(Compound.structure.hassubstruct('c1ccccc1.c1ccc2[nH]ccc2c1'))\n",
    "print(f'{compounds.count()}')"
   ]
  },
  {
   "cell_type": "markdown",
   "metadata": {},
   "source": [
    "検索ヒットの一部を図にしてみる。"
   ]
  },
  {
   "cell_type": "code",
   "execution_count": 27,
   "metadata": {},
   "outputs": [
    {
     "data": {
      "image/png": "[encoded data removed]",
      "text/plain": [
       "<PIL.Image.Image image mode=RGBA size=750x500 at 0x7F55E72EC240>"
      ]
     },
     "execution_count": 27,
     "metadata": {},
     "output_type": "execute_result"
    }
   ],
   "source": [
    "Draw.MolsToGridImage([compound.structure for compound in compounds[:6]], legends=[compound.name for compound in compounds[:6]], \n",
    "                                         subImgSize=(250, 250))"
   ]
  },
  {
   "cell_type": "markdown",
   "metadata": {},
   "source": [
    "確かにすべてベンゼン環、インドール環をそれぞれ１つ以上含む。"
   ]
  },
  {
   "cell_type": "markdown",
   "metadata": {},
   "source": [
    "##### 4.1.11 rollbackメソッド"
   ]
  },
  {
   "cell_type": "markdown",
   "metadata": {},
   "source": [
    "正しくクエリを投げることができなかった場合、続けて別のクエリを投げてもエラーが返ることがある。  \n",
    "そういう場合は一度`rollback`メソッドでrollbackを行うとよい。"
   ]
  },
  {
   "cell_type": "markdown",
   "metadata": {},
   "source": [
    "#### 4.2 更新"
   ]
  },
  {
   "cell_type": "markdown",
   "metadata": {},
   "source": [
    "レコードのカラムの更新は更新したいレコードを呼び出しattributeの値を変更したら自動で変更される。"
   ]
  },
  {
   "cell_type": "markdown",
   "metadata": {},
   "source": [
    "例として`compounds`テーブルの先頭のデータを取り出し`name`カラムの値を変更してみる。"
   ]
  },
  {
   "cell_type": "code",
   "execution_count": 28,
   "metadata": {},
   "outputs": [
    {
     "name": "stdout",
     "output_type": "stream",
     "text": [
      "(CHEMBL153534) < Cc1cc(-c2csc(N=C(N)N)n2)cn1C >\n"
     ]
    }
   ],
   "source": [
    "compound = session.query(Compound).order_by('id').first()\n",
    "print(compound)"
   ]
  },
  {
   "cell_type": "code",
   "execution_count": 29,
   "metadata": {},
   "outputs": [
    {
     "data": {
      "text/plain": [
       "(CHEMBL999999) < Cc1cc(-c2csc(N=C(N)N)n2)cn1C >"
      ]
     },
     "execution_count": 29,
     "metadata": {},
     "output_type": "execute_result"
    }
   ],
   "source": [
    "compound.name = 'CHEMBL999999'\n",
    "compound"
   ]
  },
  {
   "cell_type": "markdown",
   "metadata": {},
   "source": [
    "この時点で既にデータベース上の値も変更されている。それを確認するために`compounds`テーブルの先頭５個を取り出して表示してみる。"
   ]
  },
  {
   "cell_type": "code",
   "execution_count": 30,
   "metadata": {},
   "outputs": [
    {
     "name": "stdout",
     "output_type": "stream",
     "text": [
      "1: CHEMBL999999\n",
      "2: CHEMBL440060\n",
      "3: CHEMBL440245\n",
      "4: CHEMBL440249\n",
      "5: CHEMBL405398\n"
     ]
    }
   ],
   "source": [
    "compounds = session.query(Compound).order_by('id').limit(5)\n",
    "for c in compounds:\n",
    "    print(f'{c.id}: {c.name}')"
   ]
  },
  {
   "cell_type": "markdown",
   "metadata": {},
   "source": [
    "最後に変更を反映するために`session.commit`メソッドを用いる。変更を反映したくない時は`session.rollback`メソッドを用いるとよい。  "
   ]
  },
  {
   "cell_type": "code",
   "execution_count": 31,
   "metadata": {},
   "outputs": [],
   "source": [
    "session.commit()"
   ]
  },
  {
   "cell_type": "markdown",
   "metadata": {},
   "source": [
    "#### 4.3 削除"
   ]
  },
  {
   "cell_type": "markdown",
   "metadata": {},
   "source": [
    "##### 4.3.1 1つのレコードの削除"
   ]
  },
  {
   "cell_type": "markdown",
   "metadata": {},
   "source": [
    "レコードの削除には`delete`メソッドを用いる。例としてid=1のレコードを削除してみる。"
   ]
  },
  {
   "cell_type": "code",
   "execution_count": 32,
   "metadata": {},
   "outputs": [
    {
     "data": {
      "text/plain": [
       "1"
      ]
     },
     "execution_count": 32,
     "metadata": {},
     "output_type": "execute_result"
    }
   ],
   "source": [
    "compounds = session.query(Compound).filter(Compound.id == 1)\n",
    "compounds.delete()"
   ]
  },
  {
   "cell_type": "markdown",
   "metadata": {},
   "source": [
    "確認してみるとid=1のレコードがもう存在しないのがわかる。"
   ]
  },
  {
   "cell_type": "code",
   "execution_count": 33,
   "metadata": {},
   "outputs": [
    {
     "data": {
      "text/plain": [
       "[]"
      ]
     },
     "execution_count": 33,
     "metadata": {},
     "output_type": "execute_result"
    }
   ],
   "source": [
    "compounds = session.query(Compound).filter(Compound.id == 1)\n",
    "compounds = compounds.all()\n",
    "compounds"
   ]
  },
  {
   "cell_type": "markdown",
   "metadata": {},
   "source": [
    "`session.rollback`メソッドで削除したのを元に戻してみる。"
   ]
  },
  {
   "cell_type": "code",
   "execution_count": 34,
   "metadata": {},
   "outputs": [],
   "source": [
    "session.rollback()"
   ]
  },
  {
   "cell_type": "code",
   "execution_count": 35,
   "metadata": {},
   "outputs": [
    {
     "data": {
      "text/plain": [
       "[(CHEMBL999999) < Cc1cc(-c2csc(N=C(N)N)n2)cn1C >]"
      ]
     },
     "execution_count": 35,
     "metadata": {},
     "output_type": "execute_result"
    }
   ],
   "source": [
    "compounds = session.query(Compound).filter(Compound.id == 1)\n",
    "compounds = compounds.all()\n",
    "compounds"
   ]
  },
  {
   "cell_type": "markdown",
   "metadata": {},
   "source": [
    "元に戻った。"
   ]
  },
  {
   "cell_type": "markdown",
   "metadata": {},
   "source": [
    "##### 4.3.2 複数のレコードの削除"
   ]
  },
  {
   "cell_type": "markdown",
   "metadata": {},
   "source": [
    "絞り込んだレコードが複数ある時のレコードの削除には引数synchronize_session=`fetch`を与えておく必要がある。  \n",
    "例として分子量2000以上のレコードを削除してみる。"
   ]
  },
  {
   "cell_type": "code",
   "execution_count": 36,
   "metadata": {},
   "outputs": [
    {
     "data": {
      "text/plain": [
       "295"
      ]
     },
     "execution_count": 36,
     "metadata": {},
     "output_type": "execute_result"
    }
   ],
   "source": [
    "compounds = session.query(Compound)\n",
    "compounds = compounds.filter(mol_amw(Compound.structure) >= 2000)\n",
    "compounds.count()"
   ]
  },
  {
   "cell_type": "code",
   "execution_count": 37,
   "metadata": {},
   "outputs": [
    {
     "data": {
      "text/plain": [
       "295"
      ]
     },
     "execution_count": 37,
     "metadata": {},
     "output_type": "execute_result"
    }
   ],
   "source": [
    "compounds.delete(synchronize_session='fetch')"
   ]
  },
  {
   "cell_type": "code",
   "execution_count": 38,
   "metadata": {},
   "outputs": [
    {
     "data": {
      "text/plain": [
       "0"
      ]
     },
     "execution_count": 38,
     "metadata": {},
     "output_type": "execute_result"
    }
   ],
   "source": [
    "compounds = session.query(Compound)\n",
    "compounds = compounds.filter(mol_amw(Compound.structure) >= 2000)\n",
    "compounds.count()"
   ]
  },
  {
   "cell_type": "markdown",
   "metadata": {},
   "source": [
    "すべて削除されている。"
   ]
  },
  {
   "cell_type": "markdown",
   "metadata": {},
   "source": [
    "今回は`session.commit`メソッドで削除したのを反映してみる。"
   ]
  },
  {
   "cell_type": "code",
   "execution_count": 39,
   "metadata": {},
   "outputs": [],
   "source": [
    "session.commit()"
   ]
  },
  {
   "cell_type": "markdown",
   "metadata": {},
   "source": [
    "### 5. sessionの終了"
   ]
  },
  {
   "cell_type": "markdown",
   "metadata": {},
   "source": [
    "最後はsessionをcloseしておこう。sessionをつながっているとテーブルを削除したりできなくなる。"
   ]
  },
  {
   "cell_type": "code",
   "execution_count": 40,
   "metadata": {},
   "outputs": [],
   "source": [
    "session.close()"
   ]
  },
  {
   "cell_type": "markdown",
   "metadata": {},
   "source": [
    "### 6. テーブルの削除"
   ]
  },
  {
   "cell_type": "markdown",
   "metadata": {},
   "source": [
    "最後にtutorialで作成したテーブルを削除してみる。`Compound`クラスで作成したテーブルの削除には`Compound.__table__.drop`メソッドを用いる。"
   ]
  },
  {
   "cell_type": "code",
   "execution_count": 41,
   "metadata": {},
   "outputs": [],
   "source": [
    "Compound.__table__.drop()"
   ]
  }
 ],
 "metadata": {
  "kernelspec": {
   "display_name": "Python 3",
   "language": "python",
   "name": "python3"
  },
  "language_info": {
   "codemirror_mode": {
    "name": "ipython",
    "version": 3
   },
   "file_extension": ".py",
   "mimetype": "text/x-python",
   "name": "python",
   "nbconvert_exporter": "python",
   "pygments_lexer": "ipython3",
   "version": "3.6.4"
  }
 },
 "nbformat": 4,
 "nbformat_minor": 2
}
