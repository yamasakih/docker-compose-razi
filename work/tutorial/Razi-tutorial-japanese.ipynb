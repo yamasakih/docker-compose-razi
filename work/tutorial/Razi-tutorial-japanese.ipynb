{
 "cells": [
  {
   "cell_type": "code",
   "execution_count": 1,
   "metadata": {},
   "outputs": [
    {
     "name": "stdout",
     "output_type": "stream",
     "text": [
      "sys.version_info(major=3, minor=6, micro=0, releaselevel='final', serial=0)\n",
      "RDKit version: 2017.03.1\n"
     ]
    }
   ],
   "source": [
    "from collections import namedtuple\n",
    "import csv\n",
    "import psycopg2\n",
    "from razi.rdkit_postgresql.types import Mol\n",
    "import sys\n",
    "from mytables import Compound\n",
    "\n",
    "from rdkit import Chem, rdBase\n",
    "from rdkit.Chem import Draw\n",
    "\n",
    "from sqlalchemy import create_engine, Column, Index, Integer, String\n",
    "from sqlalchemy.ext.declarative import declarative_base\n",
    "from sqlalchemy.orm import sessionmaker\n",
    "\n",
    "\n",
    "print(sys.version_info)\n",
    "print(f'RDKit version: {rdBase.rdkitVersion}')"
   ]
  },
  {
   "cell_type": "markdown",
   "metadata": {},
   "source": [
    "### 1. データベースに接続する"
   ]
  },
  {
   "cell_type": "markdown",
   "metadata": {},
   "source": [
    "`create_engine`関数を用いてPostgreSQLに接続する。"
   ]
  },
  {
   "cell_type": "code",
   "execution_count": null,
   "metadata": {},
   "outputs": [],
   "source": [
    "engine = create_engine('postgresql://postgres@db:5432/postgres')"
   ]
  },
  {
   "cell_type": "markdown",
   "metadata": {},
   "source": [
    "### 2. テーブルの定義"
   ]
  },
  {
   "cell_type": "markdown",
   "metadata": {},
   "source": [
    "複数のNotebookで利用ができるように化学構造情報を保存するテーブルは[mytables.py](http://0.0.0.0:8888/edit/tutorial/mytables.py)に保存し  \n",
    "`from mytables import Compound`で読み込んでいる。以下で各コードを説明していく。"
   ]
  },
  {
   "cell_type": "markdown",
   "metadata": {},
   "source": [
    "[SQLAlchemy](http://docs.sqlalchemy.org/en/latest/orm/tutorial.html)でテーブルの定義をする方法と同じように`Razi`でも定義することができる。  \n",
    "その際カラムのデータ型として化学構造データを保存する`Mol`が追加されている。"
   ]
  },
  {
   "cell_type": "markdown",
   "metadata": {},
   "source": [
    "最初に`create_engine`関数を用いてPostgreSQLに接続する。  \n",
    "引数として`postgresql://ユーザー名:パスワード@接続先:ポート/データベース名`を与える。  \n",
    "今回は`ユーザー名=postgres`, `パスワード=なし`, `接続先=db`, `ポート=5432`, `データベース名=postgres` であるので以下のようになる。"
   ]
  },
  {
   "cell_type": "markdown",
   "metadata": {},
   "source": [
    "```\n",
    "engine = create_engine('postgresql://postgres@db:5432/postgres')\n",
    "Base = declarative_base(bind=engine)\n",
    "```"
   ]
  },
  {
   "cell_type": "markdown",
   "metadata": {},
   "source": [
    "PostgresSQLに接続したengineを引数とした`Base`クラスを作成する。  \n",
    "この`Base`クラスを継承したクラスを新たに作ることで`SQLAlchemy`や`Razi`では`データベース内に存在するテーブルを定義していることになる。\n",
    "\n",
    "実際に`Compound`という名前のテーブルを定義していってみる。"
   ]
  },
  {
   "cell_type": "markdown",
   "metadata": {},
   "source": [
    "```\n",
    "class Compound(Base):\n",
    "    __tablename__ = 'compounds'\n",
    "    \n",
    "    id = Column(Integer, primary_key=True)\n",
    "    name = Column(String)\n",
    "    structure = Column(Mol)\n",
    "    atompair = Column(Bfp)\n",
    "    torsion = Column(Bfp)\n",
    "    morgan = Column(Bfp)\n",
    "    \n",
    "    __table_args__ = (\n",
    "        Index('compounds_structure', 'structure',\n",
    "                    postgresql_using='gist'),\n",
    "        )\n",
    "```"
   ]
  },
  {
   "cell_type": "markdown",
   "metadata": {},
   "source": [
    "```\n",
    "    __tablename__ = 'compounds'\n",
    "```"
   ]
  },
  {
   "cell_type": "markdown",
   "metadata": {},
   "source": [
    "初めに`__tablename__`attribute (JAVAでいうfield) にテーブルの名前`compounds`を定義している。"
   ]
  },
  {
   "cell_type": "markdown",
   "metadata": {},
   "source": [
    "\n",
    "例えば今回の例では`id`, `name`, `structure`, `atompair`, `torsion`, `morgan`という名前のカラムを持つテーブル`compounds`を作成している。  \n",
    "(`atompair`, `torsion`, `morgan`に関しては[Razi-tutorial2-japanese.ipynb]で説明するので以降では説明しない)  \n",
    "attributeに初期値として`Column`クラスをあたえることで`compounds`テーブルのカラムとして定義することができる。  \n",
    "さらに`Column`クラスのコンストラクタの引数に`Integer`, `String`, `Mol`を与えることで  \n",
    "それぞれ整数値、文字列、化学構造を保存するカラムであると定義している。  \n",
    "加えて`id`には引数として`primary_key=True`を与えることでPrimary key(主キー)であると定義している。"
   ]
  },
  {
   "cell_type": "markdown",
   "metadata": {},
   "source": [
    "最初にテーブルを定義するクラスが継承する`Base`クラスを呼び出す。"
   ]
  },
  {
   "cell_type": "code",
   "execution_count": null,
   "metadata": {},
   "outputs": [],
   "source": [
    "Base = declarative_base(bind=engine)"
   ]
  },
  {
   "cell_type": "code",
   "execution_count": null,
   "metadata": {},
   "outputs": [],
   "source": [
    "class Compound(Base):\n",
    "    __tablename__ = 'compounds'\n",
    "    \n",
    "    id = Column(Integer, primary_key=True)\n",
    "    name = Column(String)\n",
    "    structure = Column(Mol)\n",
    "    atompair = Column(Bfp)\n",
    "    torsion = Column(Bfp)\n",
    "    morgan = Column(Bfp)\n",
    "    \n",
    "    __table_args__ = (\n",
    "        Index('compounds_structure', 'structure',\n",
    "                    postgresql_using='gist'),\n",
    "        )\n",
    "    \n",
    "    def __init__(self, name, structure):\n",
    "        self.name = name\n",
    "        self.structure = structure\n",
    "        if isinstance(self.structure, str):\n",
    "            mol = Chem.MolFromSmiles(self.structure)\n",
    "        else:\n",
    "            mol = self.structure\n",
    "        self.atompair = atompairbv_fp(self.structure)\n",
    "        self.torsion = torsionbv_fp(self.structure)\n",
    "        self.morgan = morganbv_fp(self.structure, 2)\n",
    "        \n",
    "    def __repr__(self):\n",
    "        if isinstance(self.structure, Chem.Mol):\n",
    "            return '(%s) < %s >' % (self.name, Chem.MolToSmiles(self.structure))\n",
    "        return '(%s) < %s >' % (self.name, self.structure)"
   ]
  },
  {
   "cell_type": "markdown",
   "metadata": {},
   "source": [
    "### 2. テーブルの構築"
   ]
  },
  {
   "cell_type": "markdown",
   "metadata": {},
   "source": [
    "1で定義したテーブルを実際に構築するには以下の関数を実行する。"
   ]
  },
  {
   "cell_type": "code",
   "execution_count": null,
   "metadata": {},
   "outputs": [],
   "source": [
    "Base.metadata.create_all()"
   ]
  },
  {
   "cell_type": "markdown",
   "metadata": {},
   "source": [
    "### 3. データの登録"
   ]
  },
  {
   "cell_type": "markdown",
   "metadata": {},
   "source": [
    "CHEMBLのデータである`tutorial_compounds.txt`は以下のような形式で保存されている。"
   ]
  },
  {
   "cell_type": "code",
   "execution_count": null,
   "metadata": {},
   "outputs": [],
   "source": [
    "!head -n3 tutorial_compounds.txt"
   ]
  },
  {
   "cell_type": "markdown",
   "metadata": {},
   "source": [
    "このファイルからvalidなsmilesとそれに対応する`CHEMBL ID`そして新たな`ID`を割り当てる関数`read_chembldb`を以下のように作成した。"
   ]
  },
  {
   "cell_type": "code",
   "execution_count": null,
   "metadata": {},
   "outputs": [],
   "source": [
    "Record = namedtuple('Record', 'chembl_id, smiles, inchi, inchi_key')\n",
    "\n",
    "\n",
    "def read_chembldb(filepath, limit=0):\n",
    "    with open(filepath, 'rt') as inputfile:\n",
    "            reader = csv.reader(inputfile, delimiter='\\t', skipinitialspace=True)\n",
    "            #headerを飛ばす\n",
    "            next(reader)\n",
    "\n",
    "            for count, record in enumerate(map(Record._make, reader), start=1):\n",
    "                smiles = record.smiles\n",
    "\n",
    "                #特定の三重結合をRDKitで読めるように変換する。\n",
    "                smiles = smiles.replace('=N#N','=[N+]=[N-]')\n",
    "                smiles = smiles.replace('N#N=','[N-]=[N+]=')            \n",
    "\n",
    "                #invalidなsmilesは読み込まない\n",
    "                if not Chem.MolFromSmiles(smiles):\n",
    "                    continue\n",
    "\n",
    "                yield count, record.chembl_id, smiles\n",
    "                if count == limit:\n",
    "                    break"
   ]
  },
  {
   "cell_type": "markdown",
   "metadata": {},
   "source": [
    "期待する通りに関数が動いているか確かめる。関数`read_chembldb`は引数`limit`の数だけデータを取り出す(デフォルトは全てのデータを取り出す)。  \n",
    "今回は`limit=3`で行ってみる。"
   ]
  },
  {
   "cell_type": "code",
   "execution_count": null,
   "metadata": {},
   "outputs": [],
   "source": [
    "for count, chembl_id, smiles in read_chembldb('tutorial_compounds.txt', limit=3):\n",
    "    print(count, chembl_id, smiles)"
   ]
  },
  {
   "cell_type": "markdown",
   "metadata": {},
   "source": [
    "期待する通りに関数が動いているようだ。"
   ]
  },
  {
   "cell_type": "markdown",
   "metadata": {},
   "source": [
    "データベースに接続し、検索や登録するには`sessionmaker`を用いる。"
   ]
  },
  {
   "cell_type": "code",
   "execution_count": null,
   "metadata": {},
   "outputs": [],
   "source": [
    "Session = sessionmaker(bind=engine)"
   ]
  },
  {
   "cell_type": "markdown",
   "metadata": {},
   "source": [
    "データを実際に登録してみる。定義したテーブル`Compound` classから一般的なオブジェクト指向型プログラミングにおけるオブジェクトを作成し、  \n",
    "sessionオブジェクトの`add`メソッドを用いて登録すれば良い。"
   ]
  },
  {
   "cell_type": "code",
   "execution_count": null,
   "metadata": {},
   "outputs": [],
   "source": [
    "session = Session()\n",
    "for count, chembl_id, smiles in read_chembldb('tutorial_compounds.txt', 10):\n",
    "    compound = Compound(chembl_id, smiles)\n",
    "    session.add(compound)\n",
    "session.commit()\n",
    "session.close()"
   ]
  },
  {
   "cell_type": "markdown",
   "metadata": {},
   "source": [
    "また別の登録方法としてRDkitのMolオブジェクトを引数に与える方法がある。"
   ]
  },
  {
   "cell_type": "code",
   "execution_count": null,
   "metadata": {},
   "outputs": [],
   "source": [
    "session = Session()\n",
    "smiles = 'c1ccccc1Cl'\n",
    "mol =Chem.MolFromSmiles(smiles)\n",
    "compound = Compound('111111', mol)\n",
    "session.add(compound)\n",
    "session.commit()\n",
    "session.close()"
   ]
  }
 ],
 "metadata": {
  "kernelspec": {
   "display_name": "Python 3",
   "language": "python",
   "name": "python3"
  },
  "language_info": {
   "codemirror_mode": {
    "name": "ipython",
    "version": 3
   },
   "file_extension": ".py",
   "mimetype": "text/x-python",
   "name": "python",
   "nbconvert_exporter": "python",
   "pygments_lexer": "ipython3",
   "version": "3.6.0"
  }
 },
 "nbformat": 4,
 "nbformat_minor": 2
}
