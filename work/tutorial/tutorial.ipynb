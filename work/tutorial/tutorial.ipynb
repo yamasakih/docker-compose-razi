{
 "cells": [
  {
   "cell_type": "code",
   "execution_count": 1,
   "metadata": {},
   "outputs": [],
   "source": [
    "from sqlalchemy import create_engine\n",
    "engine = create_engine('postgresql://postgres@db:5432/postgres')"
   ]
  },
  {
   "cell_type": "code",
   "execution_count": 2,
   "metadata": {},
   "outputs": [],
   "source": [
    "from sqlalchemy.orm import sessionmaker\n",
    "Session = sessionmaker(bind=engine)"
   ]
  },
  {
   "cell_type": "code",
   "execution_count": 3,
   "metadata": {},
   "outputs": [],
   "source": [
    "from sqlalchemy.ext.declarative import declarative_base\n",
    "Base = declarative_base(bind=engine)"
   ]
  },
  {
   "cell_type": "code",
   "execution_count": 4,
   "metadata": {},
   "outputs": [],
   "source": [
    "from sqlalchemy import Column, Index, Integer, String\n",
    "from razi.rdkit_postgresql.types import Mol\n",
    "\n",
    "class Compound(Base):\n",
    "    __tablename__ = 'compounds'\n",
    "\n",
    "    id = Column(Integer, primary_key=True)\n",
    "    name = Column(String)\n",
    "    structure = Column(Mol)\n",
    "\n",
    "    __table_args__ = (\n",
    "        Index('compounds_structure', 'structure',\n",
    "              postgresql_using='gist'),\n",
    "        )\n",
    "\n",
    "    def __init__(self, name, structure):\n",
    "        self.name = name\n",
    "        self.structure = structure\n",
    "\n",
    "    def __repr__(self):\n",
    "        return '(%s) < %s >' % (self.name, self.structure)"
   ]
  },
  {
   "cell_type": "code",
   "execution_count": 5,
   "metadata": {},
   "outputs": [],
   "source": [
    "Base.metadata.create_all()"
   ]
  },
  {
   "cell_type": "code",
   "execution_count": 6,
   "metadata": {},
   "outputs": [
    {
     "name": "stdout",
     "output_type": "stream",
     "text": [
      "chembl_id\tcanonical_smiles\tstandard_inchi\tstandard_inchi_key\r\n",
      "CHEMBL153534\tCc1cc(cn1C)c2csc(N=C(N)N)n2\tInChI=1S/C10H13N5S/c1-6-3-7(4-15(6)2)8-5-16-10(13-8)14-9(11)12/h3-5H,1-2H3,(H4,11,12,13,14)\tMFRNFCWYPYSFQQ-UHFFFAOYSA-N\r\n",
      "CHEMBL440060\tCC[C@H](C)[C@H](NC(=O)[C@H](CC(C)C)NC(=O)[C@@H](NC(=O)[C@@H](N)CCSC)[C@@H](C)O)C(=O)NCC(=O)N[C@@H](C)C(=O)N[C@@H](C)C(=O)N[C@@H](Cc1c[nH]cn1)C(=O)N[C@@H](CC(=O)N)C(=O)NCC(=O)N[C@@H](C)C(=O)N[C@@H](C)C(=O)N[C@@H](CCC(=O)N)C(=O)N[C@@H](CC(C)C)C(=O)N[C@@H](CC(C)C)C(=O)N[C@@H](CCCN=C(N)N)C(=O)N[C@@H](CCC(=O)N)C(=O)N[C@@H](CC(C)C)C(=O)N[C@@H](CCCN=C(N)N)C(=O)NCC(=O)N[C@@H](CCC(=O)N)C(=O)N[C@@H](CC(C)C)C(=O)NCC(=O)N2CCC[C@H]2C(=O)N3CCC[C@H]3C(=O)NCC(=O)N[C@@H](CO)C(=O)N[C@@H](CCCN=C(N)N)C(=O)N\tInChI=1S/C123H212N44O34S/c1-19-63(12)96(164-115(196)81(47-62(10)11)163-119(200)97(68(17)169)165-103(184)70(124)36-42-202-18)118(199)143-52-92(175)147-65(14)100(181)149-67(16)102(183)157-82(48-69-50-136-57-145-69)114(195)162-83(49-90(128)173)106(187)141-51-91(174)146-64(13)99(180)148-66(15)101(182)153-75(31-34-88(126)171)109(190)160-80(46-61(8)9)113(194)161-79(45-60(6)7)112(193)155-73(27-22-39-139-123(134)135)107(188)156-76(32-35-89(127)172)110(191)159-78(44-59(4)5)111(192)154-72(26-21-38-138-122(132)133)104(185)140-53-93(176)150-74(30-33-87(125)170)108(189)158-77(43-58(2)3)105(186)144-55-95(178)166-40-24-29-86(166)120(201)167-41-23-28-85(167)117(198)142-54-94(177)151-84(56-168)116(197)152-71(98(129)179)25-20-37-137-121(130)131/h50,57-68,70-86,96-97,168-169H,19-49,51-56,124H2,1-18H3,(H2,125,170)(H2,126,171)(H2,127,172)(H2,128,173)(H2,129,179)(H,136,145)(H,140,185)(H,141,187)(H,142,198)(H,143,199)(H,144,186)(H,146,174)(H,147,175)(H,148,180)(H,149,181)(H,150,176)(H,151,177)(H,152,197)(H,153,182)(H,154,192)(H,155,193)(H,156,188)(H,157,183)(H,158,189)(H,159,191)(H,160,190)(H,161,194)(H,162,195)(H,163,200)(H,164,196)(H,165,184)(H4,130,131,137)(H4,132,133,138)(H4,134,135,139)/t63-,64-,65-,66-,67-,68+,70-,71-,72-,73-,74-,75-,76-,77-,78-,79-,80-,81-,82-,83-,84-,85-,86-,96-,97-/m0/s1\tRSEQNZQKBMRQNM-VRGFNVLHSA-N\r\n"
     ]
    }
   ],
   "source": [
    "!head -n3 chembl_23_chemreps.txt"
   ]
  },
  {
   "cell_type": "code",
   "execution_count": 7,
   "metadata": {},
   "outputs": [],
   "source": [
    "from collections import namedtuple\n",
    "Record = namedtuple('Record', 'chembl_id, smiles, inchi, inchi_key')"
   ]
  },
  {
   "cell_type": "code",
   "execution_count": 8,
   "metadata": {},
   "outputs": [],
   "source": [
    "import csv\n",
    "from rdkit import Chem\n",
    "\n",
    "def read_chembldb(filepath, limit=0):\n",
    "\n",
    "    with open(filepath, 'rt') as inputfile:\n",
    "        reader = csv.reader(inputfile, delimiter='\\t', skipinitialspace=True)\n",
    "        next(reader) # skip header\n",
    "\n",
    "        for count, record in enumerate(map(Record._make, reader), 1):\n",
    "\n",
    "            smiles = record.smiles\n",
    "\n",
    "            # skip problematic smiles\n",
    "            if len(smiles) > 300: continue\n",
    "            smiles = smiles.replace('=N#N','=[N+]=[N-]')\n",
    "            smiles = smiles.replace('N#N=','[N-]=[N+]=')\n",
    "            if not Chem.MolFromSmiles(smiles):\n",
    "                continue\n",
    "\n",
    "            yield count, record.chembl_id, smiles\n",
    "            if count == limit:\n",
    "                break"
   ]
  },
  {
   "cell_type": "code",
   "execution_count": 9,
   "metadata": {},
   "outputs": [],
   "source": [
    "session = Session()\n",
    "for count, chembl_id, smiles in read_chembldb('chembl_23_chemreps.txt', 25000):\n",
    "    compound = Compound(chembl_id, smiles)\n",
    "    session.add(compound)\n",
    "session.commit()"
   ]
  },
  {
   "cell_type": "code",
   "execution_count": 10,
   "metadata": {},
   "outputs": [
    {
     "data": {
      "text/plain": [
       "24637"
      ]
     },
     "execution_count": 10,
     "metadata": {},
     "output_type": "execute_result"
    }
   ],
   "source": [
    "session.query(Compound).count()"
   ]
  },
  {
   "cell_type": "code",
   "execution_count": 11,
   "metadata": {},
   "outputs": [
    {
     "name": "stdout",
     "output_type": "stream",
     "text": [
      "(CHEMBL153534) < <rdkit.Chem.rdchem.Mol object at 0x7f9a336ae960> >\n",
      "(CHEMBL405398) < <rdkit.Chem.rdchem.Mol object at 0x7f9a336ae5a8> >\n",
      "(CHEMBL503634) < <rdkit.Chem.rdchem.Mol object at 0x7f9a336ae3b0> >\n",
      "(CHEMBL503643) < <rdkit.Chem.rdchem.Mol object at 0x7f9a336ae4c8> >\n",
      "(CHEMBL503865) < <rdkit.Chem.rdchem.Mol object at 0x7f9a336ae570> >\n"
     ]
    }
   ],
   "source": [
    "for compound in session.query(Compound)[:5]:\n",
    "    print(compound)"
   ]
  },
  {
   "cell_type": "code",
   "execution_count": 12,
   "metadata": {
    "scrolled": false
   },
   "outputs": [
    {
     "name": "stdout",
     "output_type": "stream",
     "text": [
      "2\n",
      "(CHEMBL26025) < <rdkit.Chem.rdchem.Mol object at 0x7f9a33db13e8> >\n",
      "(CHEMBL12112) < <rdkit.Chem.rdchem.Mol object at 0x7f9a33db1298> >\n"
     ]
    }
   ],
   "source": [
    "subset = session.query(Compound)\n",
    "subset = subset.filter(Compound.structure.hassubstruct('c1cccc2c1nncc2'))\n",
    "print(subset.count())\n",
    "for mol in subset[:5]:\n",
    "    print(mol)"
   ]
  },
  {
   "cell_type": "code",
   "execution_count": null,
   "metadata": {},
   "outputs": [],
   "source": []
  }
 ],
 "metadata": {
  "kernelspec": {
   "display_name": "Python 3",
   "language": "python",
   "name": "python3"
  },
  "language_info": {
   "codemirror_mode": {
    "name": "ipython",
    "version": 3
   },
   "file_extension": ".py",
   "mimetype": "text/x-python",
   "name": "python",
   "nbconvert_exporter": "python",
   "pygments_lexer": "ipython3",
   "version": "3.6.0"
  }
 },
 "nbformat": 4,
 "nbformat_minor": 2
}
