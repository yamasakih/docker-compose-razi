{
 "cells": [
  {
   "cell_type": "code",
   "execution_count": 1,
   "metadata": {},
   "outputs": [],
   "source": [
    "from sqlalchemy import create_engine\n",
    "engine = create_engine('postgresql://postgres@db:5432/postgres', echo=False)"
   ]
  },
  {
   "cell_type": "code",
   "execution_count": 2,
   "metadata": {},
   "outputs": [],
   "source": [
    "from sqlalchemy.orm import sessionmaker\n",
    "Session = sessionmaker(bind=engine)"
   ]
  },
  {
   "cell_type": "code",
   "execution_count": 3,
   "metadata": {},
   "outputs": [],
   "source": [
    "from sqlalchemy.ext.declarative import declarative_base\n",
    "Base = declarative_base(bind=engine)"
   ]
  },
  {
   "cell_type": "code",
   "execution_count": 4,
   "metadata": {},
   "outputs": [],
   "source": [
    "from sqlalchemy import Column, Index, Integer, String\n",
    "from razi.rdkit_postgresql.types import Mol, Bfp\n",
    "from razi.rdkit_postgresql.functions import atompairbv_fp, torsionbv_fp, morganbv_fp\n",
    "from rdkit import Chem\n",
    "\n",
    "\n",
    "class Compound(Base):\n",
    "    __tablename__ = 'compounds'\n",
    "\n",
    "    id = Column(Integer, primary_key=True)\n",
    "    name = Column(String)\n",
    "    structure = Column(Mol)\n",
    "    atompair = Column(Bfp)\n",
    "    torsion = Column(Bfp)\n",
    "    morgan = Column(Bfp)\n",
    "\n",
    "    __table_args__ = (\n",
    "        Index('compounds_structure', 'structure',\n",
    "              postgresql_using='gist'),\n",
    "        )\n",
    "\n",
    "    def __init__(self, name, structure):\n",
    "        self.name = name\n",
    "        self.structure = structure\n",
    "        if isinstance(self.structure, str):\n",
    "            mol = Chem.MolFromSmiles(self.structure)\n",
    "        else:\n",
    "            mol = self.structure\n",
    "        self.atompair = atompairbv_fp(self.structure)\n",
    "        self.torsion = torsionbv_fp(self.structure)\n",
    "        self.morgan = morganbv_fp(self.structure, 2)\n",
    "#        self.atompair = atompairbv_fp(mol)\n",
    "#        self.torsion = torsionbv_fp(mol)\n",
    "#        self.morgan = morganbv_fp(mol, 2)\n",
    "\n",
    "    def __repr__(self):\n",
    "        if isinstance(self.structure, Chem.Mol):\n",
    "            return '(%s) < %s >' % (self.name, Chem.MolToSmiles(self.structure))\n",
    "        return '(%s) < %s >' % (self.name, self.structure)"
   ]
  },
  {
   "cell_type": "code",
   "execution_count": 5,
   "metadata": {},
   "outputs": [],
   "source": [
    "Base.metadata.create_all()"
   ]
  },
  {
   "cell_type": "code",
   "execution_count": 6,
   "metadata": {},
   "outputs": [
    {
     "name": "stdout",
     "output_type": "stream",
     "text": [
      "chembl_id\tcanonical_smiles\tstandard_inchi\tstandard_inchi_key\r\n",
      "CHEMBL153534\tCc1cc(cn1C)c2csc(N=C(N)N)n2\tInChI=1S/C10H13N5S/c1-6-3-7(4-15(6)2)8-5-16-10(13-8)14-9(11)12/h3-5H,1-2H3,(H4,11,12,13,14)\tMFRNFCWYPYSFQQ-UHFFFAOYSA-N\r\n",
      "CHEMBL440060\tCC[C@H](C)[C@H](NC(=O)[C@H](CC(C)C)NC(=O)[C@@H](NC(=O)[C@@H](N)CCSC)[C@@H](C)O)C(=O)NCC(=O)N[C@@H](C)C(=O)N[C@@H](C)C(=O)N[C@@H](Cc1c[nH]cn1)C(=O)N[C@@H](CC(=O)N)C(=O)NCC(=O)N[C@@H](C)C(=O)N[C@@H](C)C(=O)N[C@@H](CCC(=O)N)C(=O)N[C@@H](CC(C)C)C(=O)N[C@@H](CC(C)C)C(=O)N[C@@H](CCCN=C(N)N)C(=O)N[C@@H](CCC(=O)N)C(=O)N[C@@H](CC(C)C)C(=O)N[C@@H](CCCN=C(N)N)C(=O)NCC(=O)N[C@@H](CCC(=O)N)C(=O)N[C@@H](CC(C)C)C(=O)NCC(=O)N2CCC[C@H]2C(=O)N3CCC[C@H]3C(=O)NCC(=O)N[C@@H](CO)C(=O)N[C@@H](CCCN=C(N)N)C(=O)N\tInChI=1S/C123H212N44O34S/c1-19-63(12)96(164-115(196)81(47-62(10)11)163-119(200)97(68(17)169)165-103(184)70(124)36-42-202-18)118(199)143-52-92(175)147-65(14)100(181)149-67(16)102(183)157-82(48-69-50-136-57-145-69)114(195)162-83(49-90(128)173)106(187)141-51-91(174)146-64(13)99(180)148-66(15)101(182)153-75(31-34-88(126)171)109(190)160-80(46-61(8)9)113(194)161-79(45-60(6)7)112(193)155-73(27-22-39-139-123(134)135)107(188)156-76(32-35-89(127)172)110(191)159-78(44-59(4)5)111(192)154-72(26-21-38-138-122(132)133)104(185)140-53-93(176)150-74(30-33-87(125)170)108(189)158-77(43-58(2)3)105(186)144-55-95(178)166-40-24-29-86(166)120(201)167-41-23-28-85(167)117(198)142-54-94(177)151-84(56-168)116(197)152-71(98(129)179)25-20-37-137-121(130)131/h50,57-68,70-86,96-97,168-169H,19-49,51-56,124H2,1-18H3,(H2,125,170)(H2,126,171)(H2,127,172)(H2,128,173)(H2,129,179)(H,136,145)(H,140,185)(H,141,187)(H,142,198)(H,143,199)(H,144,186)(H,146,174)(H,147,175)(H,148,180)(H,149,181)(H,150,176)(H,151,177)(H,152,197)(H,153,182)(H,154,192)(H,155,193)(H,156,188)(H,157,183)(H,158,189)(H,159,191)(H,160,190)(H,161,194)(H,162,195)(H,163,200)(H,164,196)(H,165,184)(H4,130,131,137)(H4,132,133,138)(H4,134,135,139)/t63-,64-,65-,66-,67-,68+,70-,71-,72-,73-,74-,75-,76-,77-,78-,79-,80-,81-,82-,83-,84-,85-,86-,96-,97-/m0/s1\tRSEQNZQKBMRQNM-VRGFNVLHSA-N\r\n"
     ]
    }
   ],
   "source": [
    "!head -n3 chembl_23_chemreps.txt"
   ]
  },
  {
   "cell_type": "code",
   "execution_count": 7,
   "metadata": {},
   "outputs": [],
   "source": [
    "from collections import namedtuple\n",
    "Record = namedtuple('Record', 'chembl_id, smiles, inchi, inchi_key')"
   ]
  },
  {
   "cell_type": "code",
   "execution_count": 8,
   "metadata": {},
   "outputs": [],
   "source": [
    "import csv\n",
    "from rdkit import Chem\n",
    "\n",
    "def read_chembldb(filepath, limit=0):\n",
    "\n",
    "    with open(filepath, 'rt') as inputfile:\n",
    "        reader = csv.reader(inputfile, delimiter='\\t', skipinitialspace=True)\n",
    "        next(reader) # skip header\n",
    "\n",
    "        for count, record in enumerate(map(Record._make, reader), 1):\n",
    "\n",
    "            smiles = record.smiles\n",
    "\n",
    "            # skip problematic smiles\n",
    "            if len(smiles) > 300: continue\n",
    "            smiles = smiles.replace('=N#N','=[N+]=[N-]')\n",
    "            smiles = smiles.replace('N#N=','[N-]=[N+]=')\n",
    "            if not Chem.MolFromSmiles(smiles):\n",
    "                continue\n",
    "\n",
    "            yield count, record.chembl_id, smiles\n",
    "            if count == limit:\n",
    "                break"
   ]
  },
  {
   "cell_type": "code",
   "execution_count": 9,
   "metadata": {
    "scrolled": true
   },
   "outputs": [],
   "source": [
    "session = Session()\n",
    "for count, chembl_id, smiles in read_chembldb('chembl_23_chemreps.txt', 500):\n",
    "    compound = Compound(chembl_id, smiles)\n",
    "    session.add(compound)\n",
    "session.commit()"
   ]
  },
  {
   "cell_type": "code",
   "execution_count": 10,
   "metadata": {},
   "outputs": [],
   "source": [
    "session = Session()"
   ]
  },
  {
   "cell_type": "code",
   "execution_count": 11,
   "metadata": {},
   "outputs": [
    {
     "data": {
      "text/plain": [
       "439"
      ]
     },
     "execution_count": 11,
     "metadata": {},
     "output_type": "execute_result"
    }
   ],
   "source": [
    "session.query(Compound).count()"
   ]
  },
  {
   "cell_type": "code",
   "execution_count": 12,
   "metadata": {},
   "outputs": [
    {
     "name": "stdout",
     "output_type": "stream",
     "text": [
      "(CHEMBL153534) < Cc1cc(-c2csc(N=C(N)N)n2)cn1C >\n",
      "(CHEMBL405398) < Brc1cccc(Nc2ncnc3ccncc23)c1NCCN1CCOCC1 >\n",
      "(CHEMBL503634) < COc1c(O)cc(O)c(C(=N)Cc2ccc(O)cc2)c1O >\n",
      "(CHEMBL503643) < CCOC(=O)c1cc2cc(C(=O)O)ccc2[nH]1 >\n",
      "(CHEMBL503865) < CC(=O)OC1C(C)=CC2OC(=O)C3(C)OC23C(OC(C)=O)C2C(C)(O)C(O)C=CC2(C)C(OC(C)=O)C1OC(C)=O >\n"
     ]
    }
   ],
   "source": [
    "for compound in session.query(Compound)[:5]:\n",
    "    print(compound)"
   ]
  },
  {
   "cell_type": "code",
   "execution_count": 13,
   "metadata": {
    "scrolled": false
   },
   "outputs": [
    {
     "name": "stdout",
     "output_type": "stream",
     "text": [
      "319\n",
      "(CHEMBL405398) < Brc1cccc(Nc2ncnc3ccncc23)c1NCCN1CCOCC1 >\n",
      "(CHEMBL503634) < COc1c(O)cc(O)c(C(=N)Cc2ccc(O)cc2)c1O >\n",
      "(CHEMBL503643) < CCOC(=O)c1cc2cc(C(=O)O)ccc2[nH]1 >\n",
      "(CHEMBL503870) < CC(NC(=O)OCc1ccccc1)C(=O)NC(C)C(=O)NN(CC(N)=O)C(=O)C=CC(=O)N(Cc1ccco1)Cc1ccco1 >\n",
      "(CHEMBL503873) < COC1CC(COCC2C(C)OC(OC3CCC4(C)C(=CCC5(O)C4CC(OC(=O)C=Cc4ccccc4)C4(C)C(O)(C(C)=O)CCC54O)C3)CC2OC)OC(C)C1COCC1CC(OC)C(COCC2CC(OC)C(OC3OC(CO)C(O)C(O)C3O)C(C)O2)C(C)O1 >\n"
     ]
    }
   ],
   "source": [
    "subset = session.query(Compound)\n",
    "subset = subset.filter(Compound.structure.hassubstruct('c1ccccc1'))\n",
    "print(subset.count())\n",
    "for mol in subset[:5]:\n",
    "    print(mol)"
   ]
  },
  {
   "cell_type": "code",
   "execution_count": 14,
   "metadata": {},
   "outputs": [
    {
     "name": "stdout",
     "output_type": "stream",
     "text": [
      "0\n"
     ]
    }
   ],
   "source": [
    "fp = morganbv_fp('COC(=O)Nc1nc2cc(C(=O)Nc3cccc(C)n3)ccc2[nH]1')\n",
    "subset = session.query(Compound)\n",
    "subset = subset.filter(Compound.morgan.dice_sml(fp))\n",
    "print(subset.count())"
   ]
  },
  {
   "cell_type": "code",
   "execution_count": 15,
   "metadata": {},
   "outputs": [
    {
     "name": "stdout",
     "output_type": "stream",
     "text": [
      "0\n"
     ]
    }
   ],
   "source": [
    "fp = morganbv_fp('COC(=O)Nc1nc2cc(C(=O)Nc3cccc(C)n3)ccc2[nH]1')\n",
    "subset = session.query(Compound)\n",
    "subset = subset.filter(Compound.morgan.tanimoto_sml(fp))\n",
    "print(subset.count())"
   ]
  },
  {
   "cell_type": "code",
   "execution_count": null,
   "metadata": {
    "scrolled": true
   },
   "outputs": [],
   "source": [
    "from sqlalchemy import desc\n",
    "\n",
    "\n",
    "fp = morganbv_fp('COC(=O)Nc1nc2ccc(C(=O)c3cccs3)cc2[nH]1')\n",
    "tanimoto_similar = Compound.morgan.tanimoto_similar(fp).label('tanimoto')\n",
    "constraint = Compound.morgan.tanimoto_sml(fp)\n",
    "rs = session.query(Compound, tanimoto_similar).filter(constraint).order_by(tanimoto_similar)\n",
    "print(rs.count())\n",
    "for i in rs:\n",
    "    print(i)"
   ]
  },
  {
   "cell_type": "code",
   "execution_count": null,
   "metadata": {},
   "outputs": [],
   "source": [
    "from sqlalchemy import desc\n",
    "\n",
    "\n",
    "fp = morganbv_fp('COC(=O)Nc1nc2ccc(C(=O)c3cccs3)cc2[nH]1')\n",
    "dice_similar = Compound.morgan.dice_similar(fp).label('dice')\n",
    "constraint = Compound.morgan.dice_sml(fp)\n",
    "rs = session.query(Compound, dice_similar).filter(constraint).order_by(desc(dice_similar))\n",
    "print(rs.count())\n",
    "for i in rs:\n",
    "    print(i)"
   ]
  },
  {
   "cell_type": "code",
   "execution_count": 17,
   "metadata": {
    "scrolled": false
   },
   "outputs": [
    {
     "data": {
      "text/plain": [
       "'0.5'"
      ]
     },
     "execution_count": 17,
     "metadata": {},
     "output_type": "execute_result"
    }
   ],
   "source": [
    "session.scalar('show rdkit.tanimoto_threshold')"
   ]
  },
  {
   "cell_type": "code",
   "execution_count": 18,
   "metadata": {},
   "outputs": [
    {
     "data": {
      "text/plain": [
       "'0.5'"
      ]
     },
     "execution_count": 18,
     "metadata": {},
     "output_type": "execute_result"
    }
   ],
   "source": [
    "session.scalar('show rdkit.dice_threshold')"
   ]
  },
  {
   "cell_type": "code",
   "execution_count": 19,
   "metadata": {},
   "outputs": [
    {
     "data": {
      "text/plain": [
       "<sqlalchemy.engine.result.ResultProxy at 0x7f57ba86fc88>"
      ]
     },
     "execution_count": 19,
     "metadata": {},
     "output_type": "execute_result"
    }
   ],
   "source": [
    "session.execute('set rdkit.tanimoto_threshold=0.4')"
   ]
  },
  {
   "cell_type": "code",
   "execution_count": 20,
   "metadata": {},
   "outputs": [
    {
     "data": {
      "text/plain": [
       "'0.4'"
      ]
     },
     "execution_count": 20,
     "metadata": {},
     "output_type": "execute_result"
    }
   ],
   "source": [
    "session.scalar('show rdkit.tanimoto_threshold')"
   ]
  },
  {
   "cell_type": "code",
   "execution_count": 21,
   "metadata": {
    "scrolled": false
   },
   "outputs": [
    {
     "data": {
      "text/plain": [
       "0"
      ]
     },
     "execution_count": 21,
     "metadata": {},
     "output_type": "execute_result"
    }
   ],
   "source": [
    "subset = session.query(Compound)\n",
    "subset = subset.filter(Compound.morgan.dice_sml(fp))\n",
    "subset.count()"
   ]
  },
  {
   "cell_type": "code",
   "execution_count": 22,
   "metadata": {},
   "outputs": [
    {
     "name": "stdout",
     "output_type": "stream",
     "text": [
      "1\n",
      "306\n"
     ]
    }
   ],
   "source": [
    "constraint = Compound.structure.hassubstruct('c1ncncn1')\n",
    "subset = session.query(Compound).filter(constraint).order_by(desc('id'))\n",
    "print(subset.count())\n",
    "for compound in subset:\n",
    "        print(compound.id)"
   ]
  },
  {
   "cell_type": "code",
   "execution_count": 23,
   "metadata": {},
   "outputs": [],
   "source": [
    "constraint = Compound.structure.issubstruct('c1ccc(C(COC(c2c(=O)oc3c(ccc(O)c3)c2)=O)=O)cc1')\n",
    "for compound in session.query(Compound).filter(constraint):\n",
    "    print(compound)"
   ]
  },
  {
   "cell_type": "code",
   "execution_count": 24,
   "metadata": {},
   "outputs": [
    {
     "data": {
      "text/plain": [
       "[('CHEMBL153534'),\n",
       " ('CHEMBL405398'),\n",
       " ('CHEMBL503634'),\n",
       " ('CHEMBL503643'),\n",
       " ('CHEMBL503865')]"
      ]
     },
     "execution_count": 24,
     "metadata": {},
     "output_type": "execute_result"
    }
   ],
   "source": [
    "compound_name = session.query(Compound.name).all()\n",
    "compound_name[:5]"
   ]
  },
  {
   "cell_type": "code",
   "execution_count": 25,
   "metadata": {},
   "outputs": [
    {
     "data": {
      "text/plain": [
       "[(CHEMBL153534) < Cc1cc(-c2csc(N=C(N)N)n2)cn1C >]"
      ]
     },
     "execution_count": 25,
     "metadata": {},
     "output_type": "execute_result"
    }
   ],
   "source": [
    "compound_name = session.query(Compound).filter(Compound.name=='CHEMBL153534').all()\n",
    "compound_name"
   ]
  },
  {
   "cell_type": "code",
   "execution_count": 26,
   "metadata": {},
   "outputs": [
    {
     "data": {
      "text/plain": [
       "[(CHEMBL153534) < Cc1cc(-c2csc(N=C(N)N)n2)cn1C >,\n",
       " (CHEMBL405398) < Brc1cccc(Nc2ncnc3ccncc23)c1NCCN1CCOCC1 >,\n",
       " (CHEMBL503634) < COc1c(O)cc(O)c(C(=N)Cc2ccc(O)cc2)c1O >,\n",
       " (CHEMBL503643) < CCOC(=O)c1cc2cc(C(=O)O)ccc2[nH]1 >,\n",
       " (CHEMBL503865) < CC(=O)OC1C(C)=CC2OC(=O)C3(C)OC23C(OC(C)=O)C2C(C)(O)C(O)C=CC2(C)C(OC(C)=O)C1OC(C)=O >,\n",
       " (CHEMBL503870) < CC(NC(=O)OCc1ccccc1)C(=O)NC(C)C(=O)NN(CC(N)=O)C(=O)C=CC(=O)N(Cc1ccco1)Cc1ccco1 >,\n",
       " (CHEMBL503873) < COC1CC(COCC2C(C)OC(OC3CCC4(C)C(=CCC5(O)C4CC(OC(=O)C=Cc4ccccc4)C4(C)C(O)(C(C)=O)CCC54O)C3)CC2OC)OC(C)C1COCC1CC(OC)C(COCC2CC(OC)C(OC3OC(CO)C(O)C(O)C3O)C(C)O2)C(C)O1 >,\n",
       " (CHEMBL1082532) < Oc1ccc(N=C(Cc2ccc(Cl)cc2)c2ccc(O)c(O)c2O)cc1 >,\n",
       " (CHEMBL504077) < COc1ccc2c(c1OC)C(CC1(C)C=Cc3c(c4cccc(OC)c4n(C)c3=O)O1)N(C)c1c-2ccc2cc3c(cc12)OCO3 >,\n",
       " (CHEMBL501567) < CC(C)CC(NC(=O)C(Cc1cnc[nH]1)NC(=O)C(Cc1c[nH]c2ccccc12)NC(=O)C1CCCN1C(=O)C(N)CS)C(=O)NC(CC(C)C)C(=O)N1CCCC1C(=O)NC(Cc1ccccc1)C(=O)NC(CS)C(=O)O >]"
      ]
     },
     "execution_count": 26,
     "metadata": {},
     "output_type": "execute_result"
    }
   ],
   "source": [
    "session.query(Compound).limit(10).all()"
   ]
  },
  {
   "cell_type": "code",
   "execution_count": 27,
   "metadata": {},
   "outputs": [
    {
     "data": {
      "text/plain": [
       "[(CHEMBL1082532) < Oc1ccc(N=C(Cc2ccc(Cl)cc2)c2ccc(O)c(O)c2O)cc1 >,\n",
       " (CHEMBL1163216) < CN(C)CC(=O)Nc1ccc(C(=O)Nc2cc(C(=O)NCCn3nc4c5c(cccc53)C(=O)c3c(Cl)cccc3-4)n(C)c2)n1C >,\n",
       " (CHEMBL1163233) < COc1ccccc1C(=O)OC1CCC2(C)C(CCC3(C)C4CCC(C5(O)CC(C=C(C)C)OC5=O)C4CCC32)C1(C)C >,\n",
       " (CHEMBL1163234) < CC(C)(C)OC(=O)NC(CC(=O)OCc1ccccc1)C(=O)NC(COCc1ccccc1)C(=O)NCC(=O)OCc1ccccc1 >,\n",
       " (CHEMBL1163427) < CCCC1C(C(=O)NC(C)c2ccccc2)=CN(CC(=O)OC(C)C)C=C1C(=O)NC(Cc1ccccc1)C(O)CNC1CC1 >,\n",
       " (CHEMBL1203109) < CNC(=O)c1cc(C(O)CNC(C)CCc2ccc3c(c2)OCO3)ccc1O.Cl >,\n",
       " (CHEMBL1203132) < COc1ccc(OCC2=NC(c3ccccc3)c3ccccc3CN2C)cc1.Cl >,\n",
       " (CHEMBL1203140) < COc1ccccc1N1CCN(CC(O)c2ccc(O)c(C(N)=O)c2)CC1.Cl >,\n",
       " (CHEMBL1203155) < CC1CC(=O)NN=C1c1ccc(NC(=O)CCNCC(O)COc2cccc3[nH]ccc23)cc1.Cl >,\n",
       " (CHEMBL1203199) < CC(NC(=O)C1Cc2c(sc3ccccc23)CN1)c1ccccc1.Cl >]"
      ]
     },
     "execution_count": 27,
     "metadata": {},
     "output_type": "execute_result"
    }
   ],
   "source": [
    "session.query(Compound).order_by(Compound.name).limit(10).all()"
   ]
  },
  {
   "cell_type": "code",
   "execution_count": 28,
   "metadata": {},
   "outputs": [
    {
     "name": "stdout",
     "output_type": "stream",
     "text": [
      "SELECT compounds.id, compounds.name, mol_to_pkl(compounds.structure) AS structure, bfp_to_binary_text(compounds.atompair) AS atompair, bfp_to_binary_text(compounds.torsion) AS torsion, bfp_to_binary_text(compounds.morgan) AS morgan \n",
      "FROM compounds \n",
      "WHERE compounds.name = %(name_1)s\n"
     ]
    }
   ],
   "source": [
    "constraint = session.query(Compound).filter(Compound.name=='CHEMBL153534')\n",
    "sql_statement = constraint.statement\n",
    "print(sql_statement)"
   ]
  },
  {
   "cell_type": "code",
   "execution_count": 29,
   "metadata": {},
   "outputs": [
    {
     "data": {
      "text/plain": [
       "(CHEMBL153534) < Cc1cc(-c2csc(N=C(N)N)n2)cn1C >"
      ]
     },
     "execution_count": 29,
     "metadata": {},
     "output_type": "execute_result"
    }
   ],
   "source": [
    "session.query(Compound).first()"
   ]
  },
  {
   "cell_type": "code",
   "execution_count": 30,
   "metadata": {},
   "outputs": [],
   "source": [
    "from razi.rdkit_postgresql import functions"
   ]
  },
  {
   "cell_type": "code",
   "execution_count": 31,
   "metadata": {},
   "outputs": [
    {
     "data": {
      "text/plain": [
       "[(235.316),\n",
       " (429.322),\n",
       " (289.287),\n",
       " (233.223),\n",
       " (580.583),\n",
       " (622.635),\n",
       " (1333.61),\n",
       " (369.804),\n",
       " (618.686),\n",
       " (1115.39)]"
      ]
     },
     "execution_count": 31,
     "metadata": {},
     "output_type": "execute_result"
    }
   ],
   "source": [
    "session.query(functions.mol_amw(Compound.structure).label('MW')).limit(10).all()"
   ]
  },
  {
   "cell_type": "code",
   "execution_count": 32,
   "metadata": {
    "scrolled": false
   },
   "outputs": [
    {
     "data": {
      "text/plain": [
       "[(0.0263157894736842),\n",
       " (0.037037037037037),\n",
       " (0.0285714285714286),\n",
       " (0.0571428571428571),\n",
       " (0.0188679245283019),\n",
       " (0.05),\n",
       " (0.0306122448979592),\n",
       " (0.0277777777777778),\n",
       " (0.0273972602739726),\n",
       " (0.0365853658536585)]"
      ]
     },
     "execution_count": 32,
     "metadata": {},
     "output_type": "execute_result"
    }
   ],
   "source": [
    "session.query(functions.tanimoto_sml(Compound.morgan, morganbv_fp('c1ccccc1', 2))).limit(10).all()"
   ]
  },
  {
   "cell_type": "code",
   "execution_count": null,
   "metadata": {},
   "outputs": [],
   "source": []
  }
 ],
 "metadata": {
  "kernelspec": {
   "display_name": "Python 3",
   "language": "python",
   "name": "python3"
  },
  "language_info": {
   "codemirror_mode": {
    "name": "ipython",
    "version": 3
   },
   "file_extension": ".py",
   "mimetype": "text/x-python",
   "name": "python",
   "nbconvert_exporter": "python",
   "pygments_lexer": "ipython3",
   "version": "3.6.0"
  }
 },
 "nbformat": 4,
 "nbformat_minor": 2
}
