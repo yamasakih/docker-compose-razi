{
 "cells": [
  {
   "cell_type": "code",
   "execution_count": 1,
   "metadata": {},
   "outputs": [],
   "source": [
    "from sqlalchemy import create_engine\n",
    "engine = create_engine('postgresql://postgres@db:5432/postgres', echo=True)"
   ]
  },
  {
   "cell_type": "code",
   "execution_count": 2,
   "metadata": {},
   "outputs": [],
   "source": [
    "from sqlalchemy.orm import sessionmaker\n",
    "Session = sessionmaker(bind=engine)"
   ]
  },
  {
   "cell_type": "code",
   "execution_count": 3,
   "metadata": {},
   "outputs": [],
   "source": [
    "from sqlalchemy.ext.declarative import declarative_base\n",
    "Base = declarative_base(bind=engine)"
   ]
  },
  {
   "cell_type": "code",
   "execution_count": 4,
   "metadata": {},
   "outputs": [],
   "source": [
    "from sqlalchemy import Column, Index, Integer, String\n",
    "from razi.rdkit_postgresql.types import Mol, Bfp\n",
    "from razi.rdkit_postgresql.functions import atompairbv_fp, torsionbv_fp, morganbv_fp\n",
    "from rdkit import Chem\n",
    "\n",
    "\n",
    "class Compound(Base):\n",
    "    __tablename__ = 'compounds'\n",
    "\n",
    "    id = Column(Integer, primary_key=True)\n",
    "    name = Column(String)\n",
    "    structure = Column(Mol)\n",
    "    atompair = Column(Bfp)\n",
    "    torsion = Column(Bfp)\n",
    "    morgan = Column(Bfp)\n",
    "\n",
    "    __table_args__ = (\n",
    "        Index('compounds_structure', 'structure',\n",
    "              postgresql_using='gist'),\n",
    "        )\n",
    "\n",
    "    def __init__(self, name, structure):\n",
    "        self.name = name\n",
    "        self.structure = structure\n",
    "        if isinstance(self.structure, str):\n",
    "            mol = Chem.MolFromSmiles(self.structure)\n",
    "        else:\n",
    "            mol = self.structure\n",
    "        self.atompair = atompairbv_fp(self.structure)\n",
    "        self.torsion = torsionbv_fp(self.structure)\n",
    "        self.morgan = morganbv_fp(self.structure, 2)\n",
    "#        self.atompair = atompairbv_fp(mol)\n",
    "#        self.torsion = torsionbv_fp(mol)\n",
    "#        self.morgan = morganbv_fp(mol, 2)\n",
    "\n",
    "    def __repr__(self):\n",
    "        if isinstance(self.structure, Chem.Mol):\n",
    "            return '(%s) < %s >' % (self.name, Chem.MolToSmiles(self.structure))\n",
    "        return '(%s) < %s >' % (self.name, self.structure)"
   ]
  },
  {
   "cell_type": "code",
   "execution_count": 5,
   "metadata": {},
   "outputs": [
    {
     "name": "stdout",
     "output_type": "stream",
     "text": [
      "2017-12-13 21:52:42,425 INFO sqlalchemy.engine.base.Engine select version()\n",
      "2017-12-13 21:52:42,427 INFO sqlalchemy.engine.base.Engine {}\n",
      "2017-12-13 21:52:42,432 INFO sqlalchemy.engine.base.Engine select current_schema()\n",
      "2017-12-13 21:52:42,435 INFO sqlalchemy.engine.base.Engine {}\n",
      "2017-12-13 21:52:42,442 INFO sqlalchemy.engine.base.Engine SELECT CAST('test plain returns' AS VARCHAR(60)) AS anon_1\n",
      "2017-12-13 21:52:42,446 INFO sqlalchemy.engine.base.Engine {}\n",
      "2017-12-13 21:52:42,449 INFO sqlalchemy.engine.base.Engine SELECT CAST('test unicode returns' AS VARCHAR(60)) AS anon_1\n",
      "2017-12-13 21:52:42,452 INFO sqlalchemy.engine.base.Engine {}\n",
      "2017-12-13 21:52:42,455 INFO sqlalchemy.engine.base.Engine show standard_conforming_strings\n",
      "2017-12-13 21:52:42,457 INFO sqlalchemy.engine.base.Engine {}\n",
      "2017-12-13 21:52:42,463 INFO sqlalchemy.engine.base.Engine select relname from pg_class c join pg_namespace n on n.oid=c.relnamespace where pg_catalog.pg_table_is_visible(c.oid) and relname=%(name)s\n",
      "2017-12-13 21:52:42,466 INFO sqlalchemy.engine.base.Engine {'name': 'compounds'}\n"
     ]
    }
   ],
   "source": [
    "Base.metadata.create_all()"
   ]
  },
  {
   "cell_type": "code",
   "execution_count": null,
   "metadata": {},
   "outputs": [],
   "source": [
    "!head -n3 chembl_23_chemreps.txt"
   ]
  },
  {
   "cell_type": "code",
   "execution_count": null,
   "metadata": {},
   "outputs": [],
   "source": [
    "from collections import namedtuple\n",
    "Record = namedtuple('Record', 'chembl_id, smiles, inchi, inchi_key')"
   ]
  },
  {
   "cell_type": "code",
   "execution_count": null,
   "metadata": {},
   "outputs": [],
   "source": [
    "import csv\n",
    "from rdkit import Chem\n",
    "\n",
    "def read_chembldb(filepath, limit=0):\n",
    "\n",
    "    with open(filepath, 'rt') as inputfile:\n",
    "        reader = csv.reader(inputfile, delimiter='\\t', skipinitialspace=True)\n",
    "        next(reader) # skip header\n",
    "\n",
    "        for count, record in enumerate(map(Record._make, reader), 1):\n",
    "\n",
    "            smiles = record.smiles\n",
    "\n",
    "            # skip problematic smiles\n",
    "            if len(smiles) > 300: continue\n",
    "            smiles = smiles.replace('=N#N','=[N+]=[N-]')\n",
    "            smiles = smiles.replace('N#N=','[N-]=[N+]=')\n",
    "            if not Chem.MolFromSmiles(smiles):\n",
    "                continue\n",
    "\n",
    "            yield count, record.chembl_id, smiles\n",
    "            if count == limit:\n",
    "                break"
   ]
  },
  {
   "cell_type": "code",
   "execution_count": null,
   "metadata": {
    "scrolled": true
   },
   "outputs": [],
   "source": [
    "session = Session()\n",
    "for count, chembl_id, smiles in read_chembldb('chembl_23_chemreps.txt', 100):\n",
    "    compound = Compound(chembl_id, smiles)\n",
    "    session.add(compound)\n",
    "session.commit()"
   ]
  },
  {
   "cell_type": "code",
   "execution_count": 7,
   "metadata": {},
   "outputs": [],
   "source": [
    "session = Session()"
   ]
  },
  {
   "cell_type": "code",
   "execution_count": 8,
   "metadata": {},
   "outputs": [
    {
     "name": "stdout",
     "output_type": "stream",
     "text": [
      "2017-12-13 21:53:04,141 INFO sqlalchemy.engine.base.Engine BEGIN (implicit)\n",
      "2017-12-13 21:53:04,145 INFO sqlalchemy.engine.base.Engine SELECT count(*) AS count_1 \n",
      "FROM (SELECT compounds.id AS compounds_id, compounds.name AS compounds_name, compounds.structure AS compounds_structure, compounds.atompair AS compounds_atompair, compounds.torsion AS compounds_torsion, compounds.morgan AS compounds_morgan \n",
      "FROM compounds) AS anon_1\n",
      "2017-12-13 21:53:04,149 INFO sqlalchemy.engine.base.Engine {}\n"
     ]
    },
    {
     "data": {
      "text/plain": [
       "87"
      ]
     },
     "execution_count": 8,
     "metadata": {},
     "output_type": "execute_result"
    }
   ],
   "source": [
    "session.query(Compound).count()"
   ]
  },
  {
   "cell_type": "code",
   "execution_count": 9,
   "metadata": {},
   "outputs": [
    {
     "name": "stdout",
     "output_type": "stream",
     "text": [
      "2017-12-13 21:53:06,255 INFO sqlalchemy.engine.base.Engine SELECT compounds.id AS compounds_id, compounds.name AS compounds_name, mol_to_pkl(compounds.structure) AS compounds_structure, bfp_to_binary_text(compounds.atompair) AS compounds_atompair, bfp_to_binary_text(compounds.torsion) AS compounds_torsion, bfp_to_binary_text(compounds.morgan) AS compounds_morgan \n",
      "FROM compounds \n",
      " LIMIT %(param_1)s\n",
      "2017-12-13 21:53:06,258 INFO sqlalchemy.engine.base.Engine {'param_1': 5}\n",
      "(CHEMBL153534) < Cc1cc(-c2csc(N=C(N)N)n2)cn1C >\n",
      "(CHEMBL405398) < Brc1cccc(Nc2ncnc3ccncc23)c1NCCN1CCOCC1 >\n",
      "(CHEMBL503634) < COc1c(O)cc(O)c(C(=N)Cc2ccc(O)cc2)c1O >\n",
      "(CHEMBL503643) < CCOC(=O)c1cc2cc(C(=O)O)ccc2[nH]1 >\n",
      "(CHEMBL503865) < CC(=O)OC1C(C)=CC2OC(=O)C3(C)OC23C(OC(C)=O)C2C(C)(O)C(O)C=CC2(C)C(OC(C)=O)C1OC(C)=O >\n"
     ]
    }
   ],
   "source": [
    "for compound in session.query(Compound)[:5]:\n",
    "    print(compound)"
   ]
  },
  {
   "cell_type": "code",
   "execution_count": 10,
   "metadata": {
    "scrolled": false
   },
   "outputs": [
    {
     "name": "stdout",
     "output_type": "stream",
     "text": [
      "2017-12-13 21:53:07,831 INFO sqlalchemy.engine.base.Engine SELECT count(*) AS count_1 \n",
      "FROM (SELECT compounds.id AS compounds_id, compounds.name AS compounds_name, compounds.structure AS compounds_structure, compounds.atompair AS compounds_atompair, compounds.torsion AS compounds_torsion, compounds.morgan AS compounds_morgan \n",
      "FROM compounds \n",
      "WHERE compounds.structure @> mol_from_pkl(%(structure_1)s)) AS anon_1\n",
      "2017-12-13 21:53:07,833 INFO sqlalchemy.engine.base.Engine {'structure_1': <memory at 0x7f9f8411c888>}\n",
      "63\n"
     ]
    }
   ],
   "source": [
    "subset = session.query(Compound)\n",
    "subset = subset.filter(Compound.structure.hassubstruct('c1ccccc1'))\n",
    "print(subset.count())\n",
    "#for mol in subset[:5]:\n",
    "#    print(mol)"
   ]
  },
  {
   "cell_type": "code",
   "execution_count": 11,
   "metadata": {},
   "outputs": [
    {
     "data": {
      "text/plain": [
       "<razi.rdkit_postgresql.functions.morganbv_fp at 0x7f9f71c356a0; morganbv_fp>"
      ]
     },
     "execution_count": 11,
     "metadata": {},
     "output_type": "execute_result"
    }
   ],
   "source": [
    "fp = morganbv_fp('c1ccccc1')\n",
    "fp"
   ]
  },
  {
   "cell_type": "code",
   "execution_count": 12,
   "metadata": {},
   "outputs": [
    {
     "data": {
      "text/plain": [
       "<memory at 0x7f9f8411c888>"
      ]
     },
     "execution_count": 12,
     "metadata": {},
     "output_type": "execute_result"
    }
   ],
   "source": [
    "mol = Chem.MolFromSmiles('c1ccccc1')\n",
    "bytea = memoryview(mol.ToBinary())\n",
    "bytea"
   ]
  },
  {
   "cell_type": "code",
   "execution_count": null,
   "metadata": {},
   "outputs": [],
   "source": []
  },
  {
   "cell_type": "code",
   "execution_count": 13,
   "metadata": {
    "scrolled": false
   },
   "outputs": [
    {
     "name": "stdout",
     "output_type": "stream",
     "text": [
      "2017-12-13 21:53:13,115 INFO sqlalchemy.engine.base.Engine SELECT count(*) AS count_1 \n",
      "FROM (SELECT compounds.id AS compounds_id, compounds.name AS compounds_name, compounds.structure AS compounds_structure, compounds.atompair AS compounds_atompair, compounds.torsion AS compounds_torsion, compounds.morgan AS compounds_morgan \n",
      "FROM compounds \n",
      "WHERE compounds.morgan %% bfp_from_binary_text(%(morgan_1)s)) AS anon_1\n",
      "2017-12-13 21:53:13,118 INFO sqlalchemy.engine.base.Engine {'morgan_1': <memory at 0x7f9f8411c888>}\n"
     ]
    },
    {
     "data": {
      "text/plain": [
       "0"
      ]
     },
     "execution_count": 13,
     "metadata": {},
     "output_type": "execute_result"
    }
   ],
   "source": [
    "subset = session.query(Compound)\n",
    "subset = subset.filter(Compound.morgan.tanimoto_sml(bytea))\n",
    "subset.count()\n",
    "#type(subset)\n",
    "#subset.count()\n",
    "#type(subset)"
   ]
  },
  {
   "cell_type": "code",
   "execution_count": null,
   "metadata": {},
   "outputs": [],
   "source": []
  },
  {
   "cell_type": "code",
   "execution_count": 14,
   "metadata": {
    "scrolled": false
   },
   "outputs": [
    {
     "name": "stdout",
     "output_type": "stream",
     "text": [
      "2017-12-13 21:54:06,223 INFO sqlalchemy.engine.base.Engine SELECT count(*) AS count_1 \n",
      "FROM (SELECT compounds.id AS compounds_id, compounds.name AS compounds_name, compounds.structure AS compounds_structure, compounds.atompair AS compounds_atompair, compounds.torsion AS compounds_torsion, compounds.morgan AS compounds_morgan \n",
      "FROM compounds \n",
      "WHERE compounds.morgan # bfp_from_binary_text(%(morgan_1)s)) AS anon_1\n",
      "2017-12-13 21:54:06,226 INFO sqlalchemy.engine.base.Engine {'morgan_1': <memory at 0x7f9f8411c888>}\n"
     ]
    },
    {
     "data": {
      "text/plain": [
       "0"
      ]
     },
     "execution_count": 14,
     "metadata": {},
     "output_type": "execute_result"
    }
   ],
   "source": [
    "subset = session.query(Compound)\n",
    "subset = subset.filter(Compound.morgan.dice_sml(bytea))\n",
    "subset.count()\n",
    "#type(subset)\n",
    "#subset.count()\n",
    "#type(subset)"
   ]
  },
  {
   "cell_type": "code",
   "execution_count": null,
   "metadata": {},
   "outputs": [],
   "source": [
    "session.s"
   ]
  },
  {
   "cell_type": "code",
   "execution_count": null,
   "metadata": {},
   "outputs": [],
   "source": [
    "Base.metadata.drop_all()"
   ]
  },
  {
   "cell_type": "code",
   "execution_count": null,
   "metadata": {},
   "outputs": [],
   "source": []
  }
 ],
 "metadata": {
  "kernelspec": {
   "display_name": "Python 3",
   "language": "python",
   "name": "python3"
  },
  "language_info": {
   "codemirror_mode": {
    "name": "ipython",
    "version": 3
   },
   "file_extension": ".py",
   "mimetype": "text/x-python",
   "name": "python",
   "nbconvert_exporter": "python",
   "pygments_lexer": "ipython3",
   "version": "3.6.0"
  }
 },
 "nbformat": 4,
 "nbformat_minor": 2
}
